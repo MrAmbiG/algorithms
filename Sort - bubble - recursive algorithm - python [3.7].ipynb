{
 "cells": [
  {
   "cell_type": "markdown",
   "metadata": {},
   "source": [
    "# Sort bubble recursive algorithm - python [3.7]"
   ]
  },
  {
   "cell_type": "markdown",
   "metadata": {},
   "source": [
    "Bubble sort algorithm sorts elements by swapping the adjacent elements who are in wrong order. Here we will do it with recursion"
   ]
  },
  {
   "cell_type": "code",
   "execution_count": null,
   "metadata": {},
   "outputs": [],
   "source": [
    "We are going to use enumeration for this"
   ]
  },
  {
   "cell_type": "code",
   "execution_count": 5,
   "metadata": {},
   "outputs": [
    {
     "name": "stdout",
     "output_type": "stream",
     "text": [
      "0 64\n",
      "1 34\n",
      "2 25\n",
      "3 12\n",
      "4 22\n",
      "5 11\n",
      "6 90\n"
     ]
    }
   ],
   "source": [
    "mylist = [64, 34, 25, 12, 22, 11, 90] \n",
    "for a,b in enumerate(mylist):\n",
    "    print(a,b)"
   ]
  },
  {
   "cell_type": "code",
   "execution_count": 8,
   "metadata": {},
   "outputs": [],
   "source": [
    "def sortBubbleRecurse(arr):\n",
    "    # assert the input type to be a list\n",
    "    assert type(arr) is list,\"Input is not a list\"\n",
    "    \n",
    "    for a,b in enumerate(arr):\n",
    "        try:\n",
    "            if arr[a] > arr[a+1]:\n",
    "                arr[a], arr[a+1] = arr[a+1], arr[a]\n",
    "                sortBubbleRecurse(arr)\n",
    "        except IndexError:\n",
    "            pass\n",
    "    return arr"
   ]
  },
  {
   "cell_type": "code",
   "execution_count": 9,
   "metadata": {},
   "outputs": [
    {
     "name": "stdout",
     "output_type": "stream",
     "text": [
      "[11, 12, 22, 25, 34, 64, 90]\n"
     ]
    }
   ],
   "source": [
    "mylist = [64, 34, 25, 12, 22, 11, 90] \n",
    "result = sortBubbleRecurse(mylist)\n",
    "print(result)"
   ]
  }
 ],
 "metadata": {
  "kernelspec": {
   "display_name": "Python 3",
   "language": "python",
   "name": "python3"
  },
  "language_info": {
   "codemirror_mode": {
    "name": "ipython",
    "version": 3
   },
   "file_extension": ".py",
   "mimetype": "text/x-python",
   "name": "python",
   "nbconvert_exporter": "python",
   "pygments_lexer": "ipython3",
   "version": "3.7.1"
  }
 },
 "nbformat": 4,
 "nbformat_minor": 2
}
