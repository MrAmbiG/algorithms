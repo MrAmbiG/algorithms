{
 "cells": [
  {
   "cell_type": "markdown",
   "metadata": {},
   "source": [
    "# Double (doubly) linked lists (DLL) algorithm - python [3.7]"
   ]
  },
  {
   "cell_type": "markdown",
   "metadata": {},
   "source": [
    "### Pros against Single linked list\n",
    "- Can be searched from both directions  \n",
    "- Basic operations like insertion, deletion are faster since each node has a refrence to the next and previous node."
   ]
  },
  {
   "cell_type": "markdown",
   "metadata": {},
   "source": [
    "### Cons against Single linked list\n",
    "- Need more memory and reference points  \n",
    "- Insertion, deletion require extra steps"
   ]
  },
  {
   "cell_type": "markdown",
   "metadata": {},
   "source": [
    "Let us create a node"
   ]
  },
  {
   "cell_type": "code",
   "execution_count": 1,
   "metadata": {},
   "outputs": [],
   "source": [
    "class Node: \n",
    "    def __init__(self, next=None, prev=None, data=None): \n",
    "        self.next = next # reference to next node in DLL \n",
    "        self.prev = prev # reference to previous node in DLL \n",
    "        self.data = data "
   ]
  },
  {
   "cell_type": "code",
   "execution_count": null,
   "metadata": {},
   "outputs": [],
   "source": [
    "class DoubleLinkedList: # referred as DLL below\n",
    "    def __init__(self):\n",
    "        self.head = None\n",
    "     \n",
    "    def prepend(self, data):\n",
    "        '''add node at the beginning. 5 steps'''\n",
    "        # step 1. allocate a node\n",
    "        # step 2. put in the data \n",
    "        new_node = Node(data)\n",
    "        \n",
    "        # step 3. add forward reference to the current head for the new_node\n",
    "        new_node.next = self.head\n",
    "        \n",
    "        # step 4. add a backward reference to the new_node for the current head\n",
    "        if self.head is not None:\n",
    "            self.head.prev = new_node\n",
    "            \n",
    "        # step 5. make the new_node as the current head\n",
    "        self.head = new_node\n",
    "        \n",
    "    def append(self, data):\n",
    "        '''add node at the end. 7 steps'''\n",
    "        # step 1. allocate a node\n",
    "        # step 2. put in the data \n",
    "        new_node = Node(data)\n",
    "        \n",
    "        # step 3. since this node will be the last one, make the next node of it as None\n",
    "        new_node.next = None\n",
    "        \n",
    "        # step 4. If the DLL is empty then make the new_node as the head\n",
    "        if self.head is None:\n",
    "            new_node.prev = None\n",
    "            self.head = new_node\n",
    "            return\n",
    "    \n",
    "        # step 5. If the DLL isn't empty then traverse till you get\n",
    "        # the last node\n",
    "        last = self.head\n",
    "        while last.next is not None:\n",
    "            last = last.next\n",
    "            \n",
    "        # step 6. add a forward reference to new_node from last node (from step 5)\n",
    "        last.next = new_node\n",
    "        \n",
    "        # step 7. add backward reference to last node (from step 5) from new_node\n",
    "        new_node.prev = last\n",
    "        return\n",
    "    \n",
    "    def insertAfter(self, pre_node, data):\n",
    "        '''add a node after a given previous node (pre_node). 7 steps'''\n",
    "        # step 1. make sure the prev node is not null\n",
    "        if pre_node is None:\n",
    "            print(\"the previous node should not be null/None\")\n",
    "            return\n",
    "        \n",
    "        # step 2. allocate a node\n",
    "        # step 3. put in the data \n",
    "        new_node = Node(data)\n",
    "        \n",
    "        # step 4. pre_node.next is the place where we want to place\n",
    "        # the new_node from step 3. So we point our new_node as the next of\n",
    "        # pre_node\n",
    "        new_node.next = pre_node.next\n",
    "        \n",
    "        # step 5. Add a forward reference from pre_node to new_node\n",
    "        pre_node.next = new_node\n",
    "        \n",
    "        # step 6. Add a backward reference from new_node to pre_node\n",
    "        new_node.prev = pre_node\n",
    "        \n",
    "        # step 7. new_node.next is the next node of new_node. Add a \n",
    "        # backward reference from this nod to the new_node.\n",
    "        if new_node.next is not None: # if new_node is not the last node in the DDL\n",
    "            new_node.next.prev = new_node\n",
    "        \n",
    "        \n",
    "    def getFullDDL(self):\n",
    "        '''print the whole list'''\n",
    "        current = self.head\n",
    "        while current:\n",
    "            print(current.data)\n",
    "            current = current.get_next()\n",
    "            \n",
    "    def getDDL(self, node):\n",
    "        '''print the list from a given node'''\n",
    "        print(\"forward traverse\")\n",
    "        while node is not None:\n",
    "            print(node.data)\n",
    "            last = node\n",
    "            node = node.next\n",
    "            \n",
    "        print(\"backward traverse\")\n",
    "        while last is not None:\n",
    "            print(last.data)\n",
    "            last = last.prev\n",
    "            \n",
    "        \n",
    "        \n",
    "        \n",
    "            \n",
    "        \n",
    "        \n",
    "    "
   ]
  }
 ],
 "metadata": {
  "kernelspec": {
   "display_name": "Python 3",
   "language": "python",
   "name": "python3"
  },
  "language_info": {
   "codemirror_mode": {
    "name": "ipython",
    "version": 3
   },
   "file_extension": ".py",
   "mimetype": "text/x-python",
   "name": "python",
   "nbconvert_exporter": "python",
   "pygments_lexer": "ipython3",
   "version": "3.7.1"
  }
 },
 "nbformat": 4,
 "nbformat_minor": 2
}
