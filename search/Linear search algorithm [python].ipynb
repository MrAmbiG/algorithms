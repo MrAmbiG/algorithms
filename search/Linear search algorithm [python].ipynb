{
 "cells": [
  {
   "cell_type": "markdown",
   "metadata": {},
   "source": [
    "__Linear Search__ is the simplest and also one of the most inefficient search algorithm.  "
   ]
  },
  {
   "cell_type": "markdown",
   "metadata": {},
   "source": [
    "In __Linear Search__ algorithm you start searching **linearly** from point A to B, one by one. Here point A to B can be from left to right, right to left, top to bottom or even bottom to top."
   ]
  },
  {
   "cell_type": "code",
   "execution_count": 1,
   "metadata": {},
   "outputs": [],
   "source": [
    "ls=['a','b','c','d','e','f','g','h','i']"
   ]
  },
  {
   "cell_type": "markdown",
   "metadata": {},
   "source": [
    "**Problem**  \n",
    "Search for c from the list ls.  \n",
    "ls=['a','b','c','d','e','f','g','h','i']"
   ]
  },
  {
   "cell_type": "markdown",
   "metadata": {},
   "source": [
    "|a|b|c|d|e|f|g|h|i|\n",
    "|-|-|-|-|-|-|-|-|-|\n",
    "|1|2|3|4|5|6|7|8|9|"
   ]
  },
  {
   "cell_type": "code",
   "execution_count": 2,
   "metadata": {},
   "outputs": [
    {
     "name": "stdout",
     "output_type": "stream",
     "text": [
      "a\n",
      "b\n",
      "c\n",
      "d\n",
      "e\n",
      "f\n",
      "g\n",
      "h\n",
      "i\n"
     ]
    }
   ],
   "source": [
    "for i in ls:\n",
    "    print(i)"
   ]
  },
  {
   "cell_type": "code",
   "execution_count": 3,
   "metadata": {},
   "outputs": [
    {
     "name": "stdout",
     "output_type": "stream",
     "text": [
      "found c at position 2\n"
     ]
    }
   ],
   "source": [
    "for i in ls:\n",
    "    if i is 'c':\n",
    "        place=ls.index(i)\n",
    "        print(f\"found {i} at position {place}\")\n",
    "        break"
   ]
  },
  {
   "cell_type": "code",
   "execution_count": null,
   "metadata": {},
   "outputs": [],
   "source": []
  }
 ],
 "metadata": {
  "kernelspec": {
   "display_name": "Python 3",
   "language": "python",
   "name": "python3"
  },
  "language_info": {
   "codemirror_mode": {
    "name": "ipython",
    "version": 3
   },
   "file_extension": ".py",
   "mimetype": "text/x-python",
   "name": "python",
   "nbconvert_exporter": "python",
   "pygments_lexer": "ipython3",
   "version": "3.7.1"
  }
 },
 "nbformat": 4,
 "nbformat_minor": 2
}
