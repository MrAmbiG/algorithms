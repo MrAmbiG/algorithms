{
 "cells": [
  {
   "cell_type": "markdown",
   "metadata": {},
   "source": [
    "__Binary Search__ Searchs a sorted array by repeatedly dividing the search interval in half."
   ]
  },
  {
   "cell_type": "markdown",
   "metadata": {},
   "source": [
    "https://interactivepython.org/runestone/static/pythonds/SortSearch/TheBinarySearch.html  \n",
    "https://www.geeksforgeeks.org/binary-search-bisect-in-python/  \n",
    "https://www.geeksforgeeks.org/binary-search/  "
   ]
  },
  {
   "cell_type": "code",
   "execution_count": 1,
   "metadata": {},
   "outputs": [],
   "source": [
    "a  = [1, 2, 4, 4, 8, 9, 9, 9, 9, 9, 99] \n",
    "x = int(2) "
   ]
  },
  {
   "cell_type": "code",
   "execution_count": 2,
   "metadata": {},
   "outputs": [],
   "source": [
    "from math import ceil, floor\n",
    "from bisect import bisect_left, bisect_right"
   ]
  },
  {
   "cell_type": "code",
   "execution_count": 3,
   "metadata": {},
   "outputs": [],
   "source": [
    "\n",
    "def binSearch(array, num, start, end):\n",
    "    '''\n",
    "    Description:\n",
    "        we will pass a sorted list ('array')\n",
    "        get the 'mid' point and if the midpoint>'num'\n",
    "        then it means that the number is in the 1st half\n",
    "        If the midpoint<'num' then the number is in the 2nd half\n",
    "        You keep repeating this (Recursion) till you find the 'num'\n",
    "    attributes:\n",
    "        array - an array of sorted numbers\n",
    "        num - the number to search for\n",
    "        start - the start index to search from\n",
    "        end - the end index at which the search will be stopped\n",
    "    '''\n",
    "    # if the length of the array is not more than 1\n",
    "    # then you can simply \n",
    "    if end>=1:\n",
    "        mid=len(array)//2        \n",
    "        \n",
    "        if array[mid]==num:\n",
    "            '''If the mid is the num that we were searching for'''\n",
    "            return mid\n",
    "        elif array[mid]>num:\n",
    "            '''If the mid is greater than the number we are searching\n",
    "            then it means the number to the left half of the array. Let\n",
    "            use recursion (A function calling itself endlessly till a\n",
    "            predefined solution is found.)\n",
    "            '''\n",
    "            return binSearch(array, num, start, mid-1)\n",
    "        else:\n",
    "            '''If the mid is less than the number we are searching\n",
    "            then it means the number to the right half of the array'''\n",
    "            return binSearch(array, num, mid+1, end)\n",
    "    else:\n",
    "        return False\n",
    "    "
   ]
  },
  {
   "cell_type": "code",
   "execution_count": 4,
   "metadata": {},
   "outputs": [],
   "source": [
    "array = [2, 3, 4, 5, 6, 7, 8, 9, 10, 19 ] \n",
    "num = 10\n",
    "start=0\n",
    "end=len(array)"
   ]
  },
  {
   "cell_type": "code",
   "execution_count": 5,
   "metadata": {},
   "outputs": [
    {
     "ename": "RecursionError",
     "evalue": "maximum recursion depth exceeded in comparison",
     "output_type": "error",
     "traceback": [
      "\u001b[1;31m---------------------------------------------------------------------------\u001b[0m",
      "\u001b[1;31mRecursionError\u001b[0m                            Traceback (most recent call last)",
      "\u001b[1;32m<ipython-input-5-3e31fe7a7477>\u001b[0m in \u001b[0;36m<module>\u001b[1;34m\u001b[0m\n\u001b[1;32m----> 1\u001b[1;33m \u001b[0mr\u001b[0m\u001b[1;33m=\u001b[0m\u001b[0mbinSearch\u001b[0m\u001b[1;33m(\u001b[0m\u001b[0marray\u001b[0m\u001b[1;33m,\u001b[0m \u001b[0mnum\u001b[0m\u001b[1;33m,\u001b[0m \u001b[0mstart\u001b[0m\u001b[1;33m,\u001b[0m \u001b[0mend\u001b[0m\u001b[1;33m)\u001b[0m\u001b[1;33m\u001b[0m\u001b[1;33m\u001b[0m\u001b[0m\n\u001b[0m\u001b[0;32m      2\u001b[0m \u001b[0mprint\u001b[0m\u001b[1;33m(\u001b[0m\u001b[0mr\u001b[0m\u001b[1;33m)\u001b[0m\u001b[1;33m\u001b[0m\u001b[1;33m\u001b[0m\u001b[0m\n",
      "\u001b[1;32m<ipython-input-3-02d7d0cbd74d>\u001b[0m in \u001b[0;36mbinSearch\u001b[1;34m(array, num, start, end)\u001b[0m\n\u001b[0;32m     32\u001b[0m             '''If the mid is less than the number we are searching\n\u001b[0;32m     33\u001b[0m             then it means the number to the right half of the array'''\n\u001b[1;32m---> 34\u001b[1;33m             \u001b[1;32mreturn\u001b[0m \u001b[0mbinSearch\u001b[0m\u001b[1;33m(\u001b[0m\u001b[0marray\u001b[0m\u001b[1;33m,\u001b[0m \u001b[0mnum\u001b[0m\u001b[1;33m,\u001b[0m \u001b[0mmid\u001b[0m\u001b[1;33m+\u001b[0m\u001b[1;36m1\u001b[0m\u001b[1;33m,\u001b[0m \u001b[0mend\u001b[0m\u001b[1;33m)\u001b[0m\u001b[1;33m\u001b[0m\u001b[1;33m\u001b[0m\u001b[0m\n\u001b[0m\u001b[0;32m     35\u001b[0m     \u001b[1;32melse\u001b[0m\u001b[1;33m:\u001b[0m\u001b[1;33m\u001b[0m\u001b[1;33m\u001b[0m\u001b[0m\n\u001b[0;32m     36\u001b[0m         \u001b[1;32mreturn\u001b[0m \u001b[1;32mFalse\u001b[0m\u001b[1;33m\u001b[0m\u001b[1;33m\u001b[0m\u001b[0m\n",
      "... last 1 frames repeated, from the frame below ...\n",
      "\u001b[1;32m<ipython-input-3-02d7d0cbd74d>\u001b[0m in \u001b[0;36mbinSearch\u001b[1;34m(array, num, start, end)\u001b[0m\n\u001b[0;32m     32\u001b[0m             '''If the mid is less than the number we are searching\n\u001b[0;32m     33\u001b[0m             then it means the number to the right half of the array'''\n\u001b[1;32m---> 34\u001b[1;33m             \u001b[1;32mreturn\u001b[0m \u001b[0mbinSearch\u001b[0m\u001b[1;33m(\u001b[0m\u001b[0marray\u001b[0m\u001b[1;33m,\u001b[0m \u001b[0mnum\u001b[0m\u001b[1;33m,\u001b[0m \u001b[0mmid\u001b[0m\u001b[1;33m+\u001b[0m\u001b[1;36m1\u001b[0m\u001b[1;33m,\u001b[0m \u001b[0mend\u001b[0m\u001b[1;33m)\u001b[0m\u001b[1;33m\u001b[0m\u001b[1;33m\u001b[0m\u001b[0m\n\u001b[0m\u001b[0;32m     35\u001b[0m     \u001b[1;32melse\u001b[0m\u001b[1;33m:\u001b[0m\u001b[1;33m\u001b[0m\u001b[1;33m\u001b[0m\u001b[0m\n\u001b[0;32m     36\u001b[0m         \u001b[1;32mreturn\u001b[0m \u001b[1;32mFalse\u001b[0m\u001b[1;33m\u001b[0m\u001b[1;33m\u001b[0m\u001b[0m\n",
      "\u001b[1;31mRecursionError\u001b[0m: maximum recursion depth exceeded in comparison"
     ]
    }
   ],
   "source": [
    "r=binSearch(array, num, start, end)\n",
    "print(r)"
   ]
  },
  {
   "cell_type": "code",
   "execution_count": null,
   "metadata": {},
   "outputs": [],
   "source": []
  },
  {
   "cell_type": "code",
   "execution_count": null,
   "metadata": {},
   "outputs": [],
   "source": []
  }
 ],
 "metadata": {
  "kernelspec": {
   "display_name": "Python 3",
   "language": "python",
   "name": "python3"
  },
  "language_info": {
   "codemirror_mode": {
    "name": "ipython",
    "version": 3
   },
   "file_extension": ".py",
   "mimetype": "text/x-python",
   "name": "python",
   "nbconvert_exporter": "python",
   "pygments_lexer": "ipython3",
   "version": "3.7.1"
  }
 },
 "nbformat": 4,
 "nbformat_minor": 2
}
