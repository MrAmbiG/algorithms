{
 "metadata": {
  "language_info": {
   "codemirror_mode": {
    "name": "ipython",
    "version": 3
   },
   "file_extension": ".py",
   "mimetype": "text/x-python",
   "name": "python",
   "nbconvert_exporter": "python",
   "pygments_lexer": "ipython3",
   "version": "3.8.3-final"
  },
  "orig_nbformat": 2,
  "kernelspec": {
   "name": "python38332bitca46afd5c5ed438d99d9fb37b2f77422",
   "display_name": "Python 3.8.3 32-bit"
  }
 },
 "nbformat": 4,
 "nbformat_minor": 2,
 "cells": [
  {
   "cell_type": "markdown",
   "metadata": {},
   "source": [
    "# Breadth First Search"
   ]
  },
  {
   "cell_type": "markdown",
   "metadata": {
    "tags": []
   },
   "source": [
    "![alt text](dfs-deapthFirstSearch.png \"dfs\")"
   ]
  },
  {
   "cell_type": "code",
   "execution_count": 1,
   "metadata": {},
   "outputs": [],
   "source": [
    "# Using a Python dictionary to act as an adjacency list.\n",
    "graph = {\n",
    "    'A' : ['B','C'],\n",
    "    'B' : ['D', 'E'],\n",
    "    'C' : ['F'],\n",
    "    'D' : [],\n",
    "    'E' : ['F'],\n",
    "    'F' : []\n",
    "}\n",
    "\n",
    "visited = [] # List of visited nodes\n",
    "queue = []     # Add the read nodes from this que to visited"
   ]
  },
  {
   "cell_type": "code",
   "execution_count": 2,
   "metadata": {},
   "outputs": [],
   "source": [
    "def bfs(graph, visited, node):\n",
    "   visited.append(node) # add the first given to the visited list, just before we visit\n",
    "   queue.append(node) # add to the queue fom which we pick a node to visit\n",
    "   #  <Do something with the node>\n",
    "   while queue: # If queue is not empty\n",
    "       s = queue.pop(0) # pop out the 1st item in the queue\n",
    "       print (s, end = '')\n",
    "\n",
    "       for neighbour in graph[s]:\n",
    "           if neighbour not in visited:\n",
    "               visited.append(neighbour)\n",
    "               queue.append(neighbour)   \n"
   ]
  },
  {
   "cell_type": "code",
   "execution_count": 3,
   "metadata": {
    "tags": []
   },
   "outputs": [
    {
     "output_type": "stream",
     "name": "stdout",
     "text": "ABCDEF"
    }
   ],
   "source": [
    "bfs(graph, visited, 'A')"
   ]
  },
  {
   "cell_type": "markdown",
   "metadata": {},
   "source": [
    "### reference\n",
    "- https://www.programiz.com/dsa/graph-bfs\n",
    "- https://www.educative.io/edpresso/how-to-implement-a-breadth-first-search-in-python"
   ]
  }
 ]
}