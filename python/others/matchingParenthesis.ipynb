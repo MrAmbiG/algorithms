{
 "metadata": {
  "language_info": {
   "codemirror_mode": {
    "name": "ipython",
    "version": 3
   },
   "file_extension": ".py",
   "mimetype": "text/x-python",
   "name": "python",
   "nbconvert_exporter": "python",
   "pygments_lexer": "ipython3",
   "version": "3.8.3-final"
  },
  "orig_nbformat": 2,
  "kernelspec": {
   "name": "python38332bitca46afd5c5ed438d99d9fb37b2f77422",
   "display_name": "Python 3.8.3 32-bit"
  }
 },
 "nbformat": 4,
 "nbformat_minor": 2,
 "cells": [
  {
   "cell_type": "markdown",
   "metadata": {},
   "source": [
    "# Matching parenthesis"
   ]
  },
  {
   "cell_type": "markdown",
   "metadata": {},
   "source": [
    "Input : [{[]{()}}]  \n",
    "Output : Balanced  \n",
    "  \n",
    "Input : `[{}({}]`  \n",
    "Output : Unbalanced"
   ]
  },
  {
   "cell_type": "code",
   "execution_count": 1,
   "metadata": {},
   "outputs": [],
   "source": [
    "def balanced(s):\n",
    "    '''If you want to check the balance of the brackets then this is enough'''\n",
    "    if s.count('[') == s.count(']') and s.count('(') == s.count(')') and s.count('{') == s.count('}'):\n",
    "        return True\n",
    "    else:   \n",
    "        return False"
   ]
  },
  {
   "cell_type": "code",
   "execution_count": 2,
   "metadata": {},
   "outputs": [],
   "source": [
    "def para_check(checkme):\n",
    "    open = ['(', '[', '{']\n",
    "    close = [')', ']', '}']\n",
    "    # assume that the balance is true\n",
    "    balance = True\n",
    "    order = True\n",
    "\n",
    "    # if the input is not a list then convert it to list\n",
    "    if type(checkme) is not list:\n",
    "        checkme = list(checkme)\n",
    "\n",
    "    # if it doesnt contain at least 2 elements then return false\n",
    "    if len(checkme) < 2:\n",
    "        balance = False\n",
    "\n",
    "    # if number of closing and opening paranthesis is not the same then it is not balanced\n",
    "    count_check1 = checkme.count('[') == checkme.count(']')\n",
    "    count_check2 = checkme.count('(') == checkme.count(')')\n",
    "    count_check3 = checkme.count('{') == checkme.count('}')\n",
    "\n",
    "    # if not all of the above are true then it is unbalanced and thus...\n",
    "    if not all([count_check1, count_check2, count_check3]):\n",
    "        balance = False\n",
    "\n",
    "    def recurser(checkme, first, last):\n",
    "        '''\n",
    "        here start can be '[,(,{' and end can be '],),}' respectively,\n",
    "        Check for a given type of bracket (any 1 of 3) see if the \n",
    "        index of the first closing bracket is greater than the first \n",
    "        opening bracket and if yes then remove them since they are a pair.\n",
    "        Repeat this forever for all 3 types of brackets.\n",
    "        '''            \n",
    "        if first in checkme and last in checkme:\n",
    "            open_index = checkme.index(first)\n",
    "            closed_index = checkme.index(last)\n",
    "            \n",
    "            if closed_index > open_index:\n",
    "                checkme.pop(closed_index)\n",
    "                checkme.pop(open_index)\n",
    "                # recursion\n",
    "                recurser(checkme, first, last)\n",
    "            else:\n",
    "                balance = False\n",
    "\n",
    "    recurser(checkme, '[', ']')\n",
    "    recurser(checkme, '(', ')')\n",
    "    recurser(checkme, '{', '}')\n",
    "\n",
    "    if len(checkme) > 0:\n",
    "        order = False\n",
    "\n",
    "    return f\"Matching brackets: {balance}; Ordered brackets: {order}\""
   ]
  },
  {
   "cell_type": "code",
   "execution_count": 3,
   "metadata": {},
   "outputs": [],
   "source": [
    "test_cases = (\"{[()]}\", \"{[(])}\", \"{{[[(())]]}}\", \"}{(){})(\")"
   ]
  },
  {
   "cell_type": "code",
   "execution_count": 4,
   "metadata": {
    "tags": []
   },
   "outputs": [
    {
     "output_type": "execute_result",
     "data": {
      "text/plain": "'Matching brackets: True; Ordered brackets: True'"
     },
     "metadata": {},
     "execution_count": 4
    }
   ],
   "source": [
    "para_check(test_cases[0])"
   ]
  },
  {
   "cell_type": "code",
   "execution_count": 5,
   "metadata": {},
   "outputs": [
    {
     "output_type": "execute_result",
     "data": {
      "text/plain": "'Matching brackets: True; Ordered brackets: True'"
     },
     "metadata": {},
     "execution_count": 5
    }
   ],
   "source": [
    "para_check(test_cases[1])"
   ]
  },
  {
   "cell_type": "code",
   "execution_count": 6,
   "metadata": {},
   "outputs": [
    {
     "output_type": "execute_result",
     "data": {
      "text/plain": "'Matching brackets: True; Ordered brackets: True'"
     },
     "metadata": {},
     "execution_count": 6
    }
   ],
   "source": [
    "para_check(test_cases[2])"
   ]
  },
  {
   "cell_type": "code",
   "execution_count": 7,
   "metadata": {},
   "outputs": [
    {
     "output_type": "execute_result",
     "data": {
      "text/plain": "'Matching brackets: True; Ordered brackets: False'"
     },
     "metadata": {},
     "execution_count": 7
    }
   ],
   "source": [
    "para_check(test_cases[3])"
   ]
  },
  {
   "cell_type": "code",
   "execution_count": null,
   "metadata": {},
   "outputs": [],
   "source": [
    "def para_check(checkme):\n",
    "    assert type(checkme) is str, f'{checkme} is not a string'\n",
    "    \n"
   ]
  }
 ]
}