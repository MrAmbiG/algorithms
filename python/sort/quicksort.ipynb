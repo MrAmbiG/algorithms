{
 "metadata": {
  "language_info": {
   "codemirror_mode": {
    "name": "ipython",
    "version": 3
   },
   "file_extension": ".py",
   "mimetype": "text/x-python",
   "name": "python",
   "nbconvert_exporter": "python",
   "pygments_lexer": "ipython3",
   "version": "3.8.3-final"
  },
  "orig_nbformat": 2,
  "kernelspec": {
   "name": "python38332bitca46afd5c5ed438d99d9fb37b2f77422",
   "display_name": "Python 3.8.3 32-bit"
  }
 },
 "nbformat": 4,
 "nbformat_minor": 2,
 "cells": [
  {
   "cell_type": "markdown",
   "metadata": {},
   "source": [
    "# Quicksort"
   ]
  },
  {
   "cell_type": "code",
   "execution_count": 1,
   "metadata": {},
   "outputs": [],
   "source": [
    "def quick_sort(arr):\n",
    "    if len(arr) < 2:\n",
    "        return arr\n",
    "    pivot = arr.pop() # get a number out of the array as a pivot or reference number\n",
    "    greater = [] # items greater than the pivot number\n",
    "    smaller = [] # items smaller than the pivot number\n",
    "    for item in arr:\n",
    "        if item > pivot:\n",
    "            greater.append(item)\n",
    "        else:\n",
    "            smaller.append(item)\n",
    "    return quick_sort(smaller) + [pivot] + quick_sort(greater)\n",
    "\n"
   ]
  },
  {
   "cell_type": "code",
   "execution_count": 2,
   "metadata": {},
   "outputs": [],
   "source": [
    "tests = [[1,8,0,3,-1,-5], [99,44,77,7,-3,5,6,7,2,1]]"
   ]
  },
  {
   "cell_type": "code",
   "execution_count": 3,
   "metadata": {},
   "outputs": [
    {
     "output_type": "execute_result",
     "data": {
      "text/plain": "[-5, -1, 0, 1, 3, 8]"
     },
     "metadata": {},
     "execution_count": 3
    }
   ],
   "source": [
    "quick_sort(tests[0])"
   ]
  },
  {
   "cell_type": "code",
   "execution_count": 4,
   "metadata": {},
   "outputs": [
    {
     "output_type": "execute_result",
     "data": {
      "text/plain": "[-3, 1, 2, 5, 6, 7, 7, 44, 77, 99]"
     },
     "metadata": {},
     "execution_count": 4
    }
   ],
   "source": [
    "quick_sort(tests[1])"
   ]
  },
  {
   "cell_type": "code",
   "execution_count": null,
   "metadata": {},
   "outputs": [],
   "source": []
  }
 ]
}