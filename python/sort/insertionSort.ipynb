{
 "metadata": {
  "language_info": {
   "codemirror_mode": {
    "name": "ipython",
    "version": 3
   },
   "file_extension": ".py",
   "mimetype": "text/x-python",
   "name": "python",
   "nbconvert_exporter": "python",
   "pygments_lexer": "ipython3",
   "version": "3.8.3-final"
  },
  "orig_nbformat": 2,
  "kernelspec": {
   "name": "Python 3.8.3 32-bit",
   "display_name": "Python 3.8.3 32-bit",
   "metadata": {
    "interpreter": {
     "hash": "c82bba30ff362e6282b2c28e30a4445f960e744ed70e483bfe914a77bdcb3235"
    }
   }
  }
 },
 "nbformat": 4,
 "nbformat_minor": 2,
 "cells": [
  {
   "source": [
    "# Insertion Sort"
   ],
   "cell_type": "markdown",
   "metadata": {}
  },
  {
   "source": [
    "Insertion sort moves an unsorted item to its suitable place in each iteration."
   ],
   "cell_type": "markdown",
   "metadata": {}
  },
  {
   "cell_type": "code",
   "execution_count": 1,
   "metadata": {},
   "outputs": [],
   "source": [
    "def insertion_sort(arr):\n",
    "    sorted_list = []\n",
    "    for i in arr:\n",
    "        if len(sorted_list) == 0:\n",
    "            sorted_list.append(i)\n",
    "        else:\n",
    "            for k in sorted_list:\n",
    "                if i < k:\n",
    "                    index=sorted_list.index(k)\n",
    "                    sorted_list.insert(index, i)\n",
    "                    break\n",
    "    return sorted_list\n"
   ]
  },
  {
   "cell_type": "code",
   "execution_count": 2,
   "metadata": {
    "tags": []
   },
   "outputs": [
    {
     "output_type": "stream",
     "name": "stdout",
     "text": "[1, 2, 3, 5, 7, 8, 10, 44]\n"
    }
   ],
   "source": [
    "test = [44,3,2,5,7,8,10,1]\n",
    "print(insertion_sort(test))"
   ]
  },
  {
   "cell_type": "code",
   "execution_count": null,
   "metadata": {},
   "outputs": [],
   "source": []
  }
 ]
}