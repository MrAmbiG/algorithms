{
 "metadata": {
  "language_info": {
   "codemirror_mode": {
    "name": "ipython",
    "version": 3
   },
   "file_extension": ".py",
   "mimetype": "text/x-python",
   "name": "python",
   "nbconvert_exporter": "python",
   "pygments_lexer": "ipython3",
   "version": "3.8.3-final"
  },
  "orig_nbformat": 2,
  "kernelspec": {
   "name": "Python 3.8.3 32-bit",
   "display_name": "Python 3.8.3 32-bit",
   "metadata": {
    "interpreter": {
     "hash": "c82bba30ff362e6282b2c28e30a4445f960e744ed70e483bfe914a77bdcb3235"
    }
   }
  }
 },
 "nbformat": 4,
 "nbformat_minor": 2,
 "cells": [
  {
   "source": [
    "# Selection sort"
   ],
   "cell_type": "markdown",
   "metadata": {}
  },
  {
   "source": [
    "Selection sort selects and moves the smallest element from an unsorted list to the beginning in each iteration."
   ],
   "cell_type": "markdown",
   "metadata": {}
  },
  {
   "cell_type": "code",
   "execution_count": 1,
   "metadata": {},
   "outputs": [],
   "source": [
    "def selectionSort(arr):\n",
    "    indexing_length = range(0, len(arr)-1) \n",
    "\n",
    "    for i in indexing_length:\n",
    "        min_value = i\n",
    "\n",
    "        for j in range(i+1, len(arr)):\n",
    "            if arr[j] < arr[min_value]:\n",
    "                min_value = j # new minimum\n",
    "        \n",
    "        if min_value != i: # swap values\n",
    "            arr[min_value], arr[i] = arr[i], arr[min_value]\n",
    "\n",
    "    return arr"
   ]
  },
  {
   "cell_type": "code",
   "execution_count": 2,
   "metadata": {},
   "outputs": [],
   "source": [
    "test = [3,7,5,6,9,2,66]"
   ]
  },
  {
   "cell_type": "code",
   "execution_count": 3,
   "metadata": {
    "tags": []
   },
   "outputs": [
    {
     "output_type": "stream",
     "name": "stdout",
     "text": "[2, 3, 5, 6, 7, 9, 66]\n"
    }
   ],
   "source": [
    "print(selectionSort(test))"
   ]
  },
  {
   "cell_type": "code",
   "execution_count": null,
   "metadata": {},
   "outputs": [],
   "source": []
  },
  {
   "cell_type": "code",
   "execution_count": null,
   "metadata": {},
   "outputs": [],
   "source": []
  }
 ]
}