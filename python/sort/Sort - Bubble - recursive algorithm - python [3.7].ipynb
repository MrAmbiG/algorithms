{
 "cells": [
  {
   "cell_type": "markdown",
   "metadata": {},
   "source": [
    "# Sort bubble recursive algorithm - python [3.7]"
   ]
  },
  {
   "cell_type": "code",
   "execution_count": 1,
   "metadata": {},
   "outputs": [
    {
     "data": {
      "text/html": [
       "\n",
       "        <iframe\n",
       "            width=\"1280\"\n",
       "            height=\"720\"\n",
       "            src=\"https://www.youtube.com/embed/BgHVwmIyNyk\"\n",
       "            frameborder=\"0\"\n",
       "            allowfullscreen\n",
       "        ></iframe>\n",
       "        "
      ],
      "text/plain": [
       "<IPython.lib.display.IFrame at 0x5e4a530>"
      ]
     },
     "execution_count": 1,
     "metadata": {},
     "output_type": "execute_result"
    }
   ],
   "source": [
    "address=\"https://www.youtube.com/embed/BgHVwmIyNyk\"\n",
    "from IPython.display import IFrame\n",
    "IFrame(address, width=\"1280\", height=\"720\")"
   ]
  },
  {
   "cell_type": "markdown",
   "metadata": {},
   "source": [
    "Bubble sort algorithm sorts elements by swapping the adjacent elements who are in wrong order. Here we will do it with recursion"
   ]
  },
  {
   "cell_type": "markdown",
   "metadata": {},
   "source": [
    "We are going to use enumeration for this"
   ]
  },
  {
   "cell_type": "code",
   "execution_count": 2,
   "metadata": {},
   "outputs": [
    {
     "name": "stdout",
     "output_type": "stream",
     "text": [
      "0 64\n",
      "1 34\n",
      "2 25\n",
      "3 12\n",
      "4 22\n",
      "5 11\n",
      "6 90\n"
     ]
    }
   ],
   "source": [
    "mylist = [64, 34, 25, 12, 22, 11, 90] \n",
    "for a,b in enumerate(mylist):\n",
    "    print(a,b)"
   ]
  },
  {
   "cell_type": "code",
   "execution_count": 3,
   "metadata": {},
   "outputs": [],
   "source": [
    "def sortBubbleRecurse(arr):\n",
    "    # assert the input to be alist\n",
    "    assert type(arr) is list, \"Input is not a list\"\n",
    "    \n",
    "    print(f\"input is {arr}\")\n",
    "    for a,b in enumerate(arr):\n",
    "        try:\n",
    "            if arr[a] > arr[a+1]:\n",
    "                print(f\"swapping {arr[a]} {arr[a+1]}\")\n",
    "                arr[a], arr[a+1] = arr[a+1], arr[a]\n",
    "                print(arr)\n",
    "                sortBubbleRecurse(arr) # function calling itself\n",
    "        except IndexError:\n",
    "            pass\n",
    "    return arr            "
   ]
  },
  {
   "cell_type": "code",
   "execution_count": 4,
   "metadata": {},
   "outputs": [
    {
     "name": "stdout",
     "output_type": "stream",
     "text": [
      "input is [64, 34, 25, 12, 22, 11, 90]\n",
      "swapping 64 34\n",
      "[34, 64, 25, 12, 22, 11, 90]\n",
      "input is [34, 64, 25, 12, 22, 11, 90]\n",
      "swapping 64 25\n",
      "[34, 25, 64, 12, 22, 11, 90]\n",
      "input is [34, 25, 64, 12, 22, 11, 90]\n",
      "swapping 34 25\n",
      "[25, 34, 64, 12, 22, 11, 90]\n",
      "input is [25, 34, 64, 12, 22, 11, 90]\n",
      "swapping 64 12\n",
      "[25, 34, 12, 64, 22, 11, 90]\n",
      "input is [25, 34, 12, 64, 22, 11, 90]\n",
      "swapping 34 12\n",
      "[25, 12, 34, 64, 22, 11, 90]\n",
      "input is [25, 12, 34, 64, 22, 11, 90]\n",
      "swapping 25 12\n",
      "[12, 25, 34, 64, 22, 11, 90]\n",
      "input is [12, 25, 34, 64, 22, 11, 90]\n",
      "swapping 64 22\n",
      "[12, 25, 34, 22, 64, 11, 90]\n",
      "input is [12, 25, 34, 22, 64, 11, 90]\n",
      "swapping 34 22\n",
      "[12, 25, 22, 34, 64, 11, 90]\n",
      "input is [12, 25, 22, 34, 64, 11, 90]\n",
      "swapping 25 22\n",
      "[12, 22, 25, 34, 64, 11, 90]\n",
      "input is [12, 22, 25, 34, 64, 11, 90]\n",
      "swapping 64 11\n",
      "[12, 22, 25, 34, 11, 64, 90]\n",
      "input is [12, 22, 25, 34, 11, 64, 90]\n",
      "swapping 34 11\n",
      "[12, 22, 25, 11, 34, 64, 90]\n",
      "input is [12, 22, 25, 11, 34, 64, 90]\n",
      "swapping 25 11\n",
      "[12, 22, 11, 25, 34, 64, 90]\n",
      "input is [12, 22, 11, 25, 34, 64, 90]\n",
      "swapping 22 11\n",
      "[12, 11, 22, 25, 34, 64, 90]\n",
      "input is [12, 11, 22, 25, 34, 64, 90]\n",
      "swapping 12 11\n",
      "[11, 12, 22, 25, 34, 64, 90]\n",
      "input is [11, 12, 22, 25, 34, 64, 90]\n"
     ]
    },
    {
     "data": {
      "text/plain": [
       "[11, 12, 22, 25, 34, 64, 90]"
      ]
     },
     "execution_count": 4,
     "metadata": {},
     "output_type": "execute_result"
    }
   ],
   "source": [
    "mylist = [64, 34, 25, 12, 22, 11, 90] \n",
    "sortBubbleRecurse(mylist)"
   ]
  }
 ],
 "metadata": {
  "kernelspec": {
   "display_name": "Python 3",
   "language": "python",
   "name": "python3"
  },
  "language_info": {
   "codemirror_mode": {
    "name": "ipython",
    "version": 3
   },
   "file_extension": ".py",
   "mimetype": "text/x-python",
   "name": "python",
   "nbconvert_exporter": "python",
   "pygments_lexer": "ipython3",
   "version": "3.7.1"
  }
 },
 "nbformat": 4,
 "nbformat_minor": 2
}
