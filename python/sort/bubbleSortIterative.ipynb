{
 "cells": [
  {
   "cell_type": "markdown",
   "metadata": {},
   "source": [
    "# Sort bubble iterative algorithm - python [3.7]"
   ]
  },
  {
   "cell_type": "markdown",
   "metadata": {},
   "source": [
    "Bubble sort algorithm sorts elements by swapping the adjacent elements who are in wrong order."
   ]
  },
  {
   "cell_type": "code",
   "execution_count": 1,
   "metadata": {},
   "outputs": [
    {
     "output_type": "execute_result",
     "data": {
      "text/plain": "<IPython.lib.display.IFrame at 0x5bd5a60>",
      "text/html": "\n        <iframe\n            width=\"1280\"\n            height=\"720\"\n            src=\"https://www.youtube.com/embed/fR7dBZm_zV0\"\n            frameborder=\"0\"\n            allowfullscreen\n        ></iframe>\n        "
     },
     "metadata": {},
     "execution_count": 1
    }
   ],
   "source": [
    "address=\"https://www.youtube.com/embed/fR7dBZm_zV0\"\n",
    "from IPython.display import IFrame\n",
    "IFrame(address, width=\"1280\", height=\"720\")    "
   ]
  },
  {
   "cell_type": "code",
   "execution_count": 3,
   "metadata": {},
   "outputs": [],
   "source": [
    "def sortBubble(arr):\n",
    "    # check the length of the array\n",
    "    n = len(arr)\n",
    "    print(f\"length is {n}\")\n",
    "    print(f\"input is {arr}\")\n",
    "    \n",
    "    # assert the input type to be a list\n",
    "    assert type(arr) is list,\"Input is not a list\"\n",
    "    \n",
    "    # iterate through the array\n",
    "    for i in range(n):\n",
    "        for j in range(0, n-i-1):\n",
    "            if arr[j] > arr[j+1]:\n",
    "                print(f\"swapping {arr[j]} & {arr[j+1]}\")\n",
    "                arr[j], arr[j+1] = arr[j+1], arr[j]\n",
    "                print(arr)\n",
    "    return f\"sorted array is {arr}\""
   ]
  },
  {
   "cell_type": "code",
   "execution_count": 4,
   "metadata": {},
   "outputs": [],
   "source": [
    "arr=[1,3,2,44,33,11,8,9]"
   ]
  },
  {
   "cell_type": "code",
   "execution_count": 5,
   "metadata": {
    "tags": []
   },
   "outputs": [
    {
     "output_type": "stream",
     "name": "stdout",
     "text": "length is 8\ninput is [1, 3, 2, 44, 33, 11, 8, 9]\nswapping 3 & 2\n[1, 2, 3, 44, 33, 11, 8, 9]\nswapping 44 & 33\n[1, 2, 3, 33, 44, 11, 8, 9]\nswapping 44 & 11\n[1, 2, 3, 33, 11, 44, 8, 9]\nswapping 44 & 8\n[1, 2, 3, 33, 11, 8, 44, 9]\nswapping 44 & 9\n[1, 2, 3, 33, 11, 8, 9, 44]\nswapping 33 & 11\n[1, 2, 3, 11, 33, 8, 9, 44]\nswapping 33 & 8\n[1, 2, 3, 11, 8, 33, 9, 44]\nswapping 33 & 9\n[1, 2, 3, 11, 8, 9, 33, 44]\nswapping 11 & 8\n[1, 2, 3, 8, 11, 9, 33, 44]\nswapping 11 & 9\n[1, 2, 3, 8, 9, 11, 33, 44]\nsorted array is [1, 2, 3, 8, 9, 11, 33, 44]\n"
    }
   ],
   "source": [
    "r=sortBubble(arr)\n",
    "print(r)"
   ]
  },
  {
   "cell_type": "code",
   "execution_count": 5,
   "metadata": {},
   "outputs": [
    {
     "name": "stdout",
     "output_type": "stream",
     "text": [
      "<class 'list'>\n"
     ]
    }
   ],
   "source": [
    "print(type(arr))"
   ]
  },
  {
   "cell_type": "code",
   "execution_count": 6,
   "metadata": {},
   "outputs": [
    {
     "data": {
      "text/plain": [
       "tuple"
      ]
     },
     "execution_count": 6,
     "metadata": {},
     "output_type": "execute_result"
    }
   ],
   "source": [
    "arr=tuple(arr)\n",
    "type(arr)"
   ]
  },
  {
   "cell_type": "code",
   "execution_count": 7,
   "metadata": {},
   "outputs": [
    {
     "data": {
      "text/plain": [
       "True"
      ]
     },
     "execution_count": 7,
     "metadata": {},
     "output_type": "execute_result"
    }
   ],
   "source": [
    "type(arr) is tuple"
   ]
  },
  {
   "cell_type": "code",
   "execution_count": 8,
   "metadata": {},
   "outputs": [
    {
     "name": "stdout",
     "output_type": "stream",
     "text": [
      "length is 8\n",
      "input is (1, 2, 3, 8, 9, 11, 33, 44)\n"
     ]
    },
    {
     "ename": "AssertionError",
     "evalue": "Input is not a list",
     "output_type": "error",
     "traceback": [
      "\u001b[1;31m---------------------------------------------------------------------------\u001b[0m",
      "\u001b[1;31mAssertionError\u001b[0m                            Traceback (most recent call last)",
      "\u001b[1;32m<ipython-input-8-d73f66c5c9e5>\u001b[0m in \u001b[0;36m<module>\u001b[1;34m\u001b[0m\n\u001b[1;32m----> 1\u001b[1;33m \u001b[0msortBubble\u001b[0m\u001b[1;33m(\u001b[0m\u001b[0marr\u001b[0m\u001b[1;33m)\u001b[0m\u001b[1;33m\u001b[0m\u001b[1;33m\u001b[0m\u001b[0m\n\u001b[0m",
      "\u001b[1;32m<ipython-input-2-db10d510fc33>\u001b[0m in \u001b[0;36msortBubble\u001b[1;34m(arr)\u001b[0m\n\u001b[0;32m      6\u001b[0m \u001b[1;33m\u001b[0m\u001b[0m\n\u001b[0;32m      7\u001b[0m     \u001b[1;31m# assert the input type to be a list\u001b[0m\u001b[1;33m\u001b[0m\u001b[1;33m\u001b[0m\u001b[1;33m\u001b[0m\u001b[0m\n\u001b[1;32m----> 8\u001b[1;33m     \u001b[1;32massert\u001b[0m \u001b[0mtype\u001b[0m\u001b[1;33m(\u001b[0m\u001b[0marr\u001b[0m\u001b[1;33m)\u001b[0m \u001b[1;32mis\u001b[0m \u001b[0mlist\u001b[0m\u001b[1;33m,\u001b[0m\u001b[1;34m\"Input is not a list\"\u001b[0m\u001b[1;33m\u001b[0m\u001b[1;33m\u001b[0m\u001b[0m\n\u001b[0m\u001b[0;32m      9\u001b[0m \u001b[1;33m\u001b[0m\u001b[0m\n\u001b[0;32m     10\u001b[0m     \u001b[1;31m# iterate through the array\u001b[0m\u001b[1;33m\u001b[0m\u001b[1;33m\u001b[0m\u001b[1;33m\u001b[0m\u001b[0m\n",
      "\u001b[1;31mAssertionError\u001b[0m: Input is not a list"
     ]
    }
   ],
   "source": [
    "sortBubble(arr)"
   ]
  },
  {
   "cell_type": "code",
   "execution_count": null,
   "metadata": {},
   "outputs": [],
   "source": []
  }
 ],
 "metadata": {
  "kernelspec": {
   "display_name": "Python 3",
   "language": "python",
   "name": "python3"
  },
  "language_info": {
   "codemirror_mode": {
    "name": "ipython",
    "version": 3
   },
   "file_extension": ".py",
   "mimetype": "text/x-python",
   "name": "python",
   "nbconvert_exporter": "python",
   "pygments_lexer": "ipython3",
   "version": "3.8.3-final"
  }
 },
 "nbformat": 4,
 "nbformat_minor": 2
}