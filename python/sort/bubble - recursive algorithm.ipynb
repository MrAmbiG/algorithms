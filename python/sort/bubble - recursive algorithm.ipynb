{
 "cells": [
  {
   "cell_type": "markdown",
   "metadata": {},
   "source": [
    "# Sort bubble recursive algorithm - python [3.7]"
   ]
  },
  {
   "cell_type": "code",
   "execution_count": 1,
   "metadata": {},
   "outputs": [
    {
     "output_type": "execute_result",
     "data": {
      "text/plain": "<IPython.lib.display.IFrame at 0x5ad0688>",
      "text/html": "\n        <iframe\n            width=\"1280\"\n            height=\"720\"\n            src=\"https://www.youtube.com/embed/BgHVwmIyNyk\"\n            frameborder=\"0\"\n            allowfullscreen\n        ></iframe>\n        "
     },
     "metadata": {},
     "execution_count": 1
    }
   ],
   "source": [
    "address=\"https://www.youtube.com/embed/BgHVwmIyNyk\"\n",
    "from IPython.display import IFrame\n",
    "IFrame(address, width=\"1280\", height=\"720\")"
   ]
  },
  {
   "cell_type": "markdown",
   "metadata": {},
   "source": [
    "Bubble sort algorithm sorts elements by swapping the adjacent elements who are in wrong order. Here we will do it with recursion"
   ]
  },
  {
   "cell_type": "markdown",
   "metadata": {},
   "source": [
    "In Bubble Sort, n-1 comparisons will be done in the 1st pass, n-2 in 2nd pass, n-3 in 3rd pass and so on.  \n",
    "- Worst Case Time Complexity [ Big-O ]: O(n2)\n",
    "- Best Case Time Complexity [Big-omega]: O(n)\n",
    "- Average Time Complexity [Big-theta]: O(n2)\n",
    "- Space Complexity: O(1)"
   ]
  },
  {
   "cell_type": "code",
   "execution_count": 2,
   "metadata": {},
   "outputs": [
    {
     "output_type": "execute_result",
     "data": {
      "text/plain": "5"
     },
     "metadata": {},
     "execution_count": 2
    }
   ],
   "source": [
    "mylist = [1,2,3,4,5]\n",
    "len(mylist) # length or size"
   ]
  },
  {
   "cell_type": "code",
   "execution_count": 5,
   "metadata": {
    "tags": []
   },
   "outputs": [
    {
     "output_type": "stream",
     "name": "stdout",
     "text": "(0, 1)\n(1, 2)\n(2, 3)\n(3, 4)\n(4, 5)\n"
    }
   ],
   "source": [
    "for i in enumerate(mylist):\n",
    "    print(i)"
   ]
  },
  {
   "cell_type": "code",
   "execution_count": null,
   "metadata": {},
   "outputs": [],
   "source": []
  },
  {
   "cell_type": "markdown",
   "metadata": {},
   "source": [
    "In python (and most programming languages)  \n",
    "Indexing/Counting/range starts from 0.   \n",
    "length/size starts from 1.  "
   ]
  },
  {
   "cell_type": "code",
   "execution_count": 2,
   "metadata": {},
   "outputs": [],
   "source": [
    "def sortBubbleRecurse(arr):\n",
    "    # assert the input to be alist\n",
    "    assert type(arr) is list, \"Input is not a list\"\n",
    "    \n",
    "    print(f\"input is {arr}\")\n",
    "    for i in range(len(arr)-1):\n",
    "        for j in range(len(arr)-1-i):\n",
    "            try:\n",
    "                if arr[j] > arr[j+1]:\n",
    "                    print(f'swapping {arr[j]} and {arr[j+1]}')\n",
    "                    arr[j], arr[j+1] = arr[j+1], arr[j]\n",
    "                    sortBubbleRecurse(arr)\n",
    "            except IndexError:\n",
    "                pass\n",
    "    return arr"
   ]
  },
  {
   "cell_type": "code",
   "execution_count": 3,
   "metadata": {
    "tags": []
   },
   "outputs": [
    {
     "output_type": "stream",
     "name": "stdout",
     "text": "input is [64, 34, 25, 12, 22, 11, 90]\nswapping 64 and 34\ninput is [34, 64, 25, 12, 22, 11, 90]\nswapping 64 and 25\ninput is [34, 25, 64, 12, 22, 11, 90]\nswapping 34 and 25\ninput is [25, 34, 64, 12, 22, 11, 90]\nswapping 64 and 12\ninput is [25, 34, 12, 64, 22, 11, 90]\nswapping 34 and 12\ninput is [25, 12, 34, 64, 22, 11, 90]\nswapping 25 and 12\ninput is [12, 25, 34, 64, 22, 11, 90]\nswapping 64 and 22\ninput is [12, 25, 34, 22, 64, 11, 90]\nswapping 34 and 22\ninput is [12, 25, 22, 34, 64, 11, 90]\nswapping 25 and 22\ninput is [12, 22, 25, 34, 64, 11, 90]\nswapping 64 and 11\ninput is [12, 22, 25, 34, 11, 64, 90]\nswapping 34 and 11\ninput is [12, 22, 25, 11, 34, 64, 90]\nswapping 25 and 11\ninput is [12, 22, 11, 25, 34, 64, 90]\nswapping 22 and 11\ninput is [12, 11, 22, 25, 34, 64, 90]\nswapping 12 and 11\ninput is [11, 12, 22, 25, 34, 64, 90]\n"
    },
    {
     "output_type": "execute_result",
     "data": {
      "text/plain": "[11, 12, 22, 25, 34, 64, 90]"
     },
     "metadata": {},
     "execution_count": 3
    }
   ],
   "source": [
    "testcases = [[64, 34, 25, 12, 22, 11, 90], [3, 5, 2, -2, 99, -1, 0]]\n",
    "sortBubbleRecurse(testcases[0])"
   ]
  },
  {
   "cell_type": "code",
   "execution_count": 4,
   "metadata": {
    "tags": []
   },
   "outputs": [
    {
     "output_type": "stream",
     "name": "stdout",
     "text": "input is [3, 5, 2, -2, 99, -1, 0]\nswapping 5 and 2\ninput is [3, 2, 5, -2, 99, -1, 0]\nswapping 3 and 2\ninput is [2, 3, 5, -2, 99, -1, 0]\nswapping 5 and -2\ninput is [2, 3, -2, 5, 99, -1, 0]\nswapping 3 and -2\ninput is [2, -2, 3, 5, 99, -1, 0]\nswapping 2 and -2\ninput is [-2, 2, 3, 5, 99, -1, 0]\nswapping 99 and -1\ninput is [-2, 2, 3, 5, -1, 99, 0]\nswapping 5 and -1\ninput is [-2, 2, 3, -1, 5, 99, 0]\nswapping 3 and -1\ninput is [-2, 2, -1, 3, 5, 99, 0]\nswapping 2 and -1\ninput is [-2, -1, 2, 3, 5, 99, 0]\nswapping 99 and 0\ninput is [-2, -1, 2, 3, 5, 0, 99]\nswapping 5 and 0\ninput is [-2, -1, 2, 3, 0, 5, 99]\nswapping 3 and 0\ninput is [-2, -1, 2, 0, 3, 5, 99]\nswapping 2 and 0\ninput is [-2, -1, 0, 2, 3, 5, 99]\n"
    },
    {
     "output_type": "execute_result",
     "data": {
      "text/plain": "[-2, -1, 0, 2, 3, 5, 99]"
     },
     "metadata": {},
     "execution_count": 4
    }
   ],
   "source": [
    "sortBubbleRecurse(testcases[1])"
   ]
  }
 ],
 "metadata": {
  "kernelspec": {
   "display_name": "Python 3",
   "language": "python",
   "name": "python3"
  },
  "language_info": {
   "codemirror_mode": {
    "name": "ipython",
    "version": 3
   },
   "file_extension": ".py",
   "mimetype": "text/x-python",
   "name": "python",
   "nbconvert_exporter": "python",
   "pygments_lexer": "ipython3",
   "version": "3.8.3-final"
  }
 },
 "nbformat": 4,
 "nbformat_minor": 2
}