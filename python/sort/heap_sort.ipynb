{
 "metadata": {
  "language_info": {
   "codemirror_mode": {
    "name": "ipython",
    "version": 3
   },
   "file_extension": ".py",
   "mimetype": "text/x-python",
   "name": "python",
   "nbconvert_exporter": "python",
   "pygments_lexer": "ipython3",
   "version": "3.8.3-final"
  },
  "orig_nbformat": 2,
  "kernelspec": {
   "name": "python38332bitca46afd5c5ed438d99d9fb37b2f77422",
   "display_name": "Python 3.8.3 32-bit"
  }
 },
 "nbformat": 4,
 "nbformat_minor": 2,
 "cells": [
  {
   "cell_type": "markdown",
   "metadata": {},
   "source": [
    "# Heap Sort"
   ]
  },
  {
   "cell_type": "markdown",
   "metadata": {},
   "source": [
    "Heap is a special tree-based data structure."
   ]
  },
  {
   "cell_type": "code",
   "execution_count": 1,
   "metadata": {},
   "outputs": [],
   "source": [
    "arr = [11, 2, 16, 31, 4, 99] # our test array"
   ]
  },
  {
   "cell_type": "markdown",
   "metadata": {},
   "source": [
    "mapping of array indexes to tree positions"
   ]
  },
  {
   "cell_type": "markdown",
   "metadata": {
    "tags": []
   },
   "source": [
    "![alt text](heap_sort.png \"Heap Sort\")"
   ]
  },
  {
   "cell_type": "markdown",
   "metadata": {},
   "source": [
    "Parents are greater than children in an `Max Heap`, Parents are smaller than it's children in a `Min Heap`"
   ]
  },
  {
   "cell_type": "markdown",
   "metadata": {
    "tags": []
   },
   "source": [
    "![alt text](heap_max_min.png \"Max Heap and Min Heap\")"
   ]
  },
  {
   "cell_type": "markdown",
   "metadata": {},
   "source": [
    "for an element at the index i, the left child will be `2i+1`, the right child will be `2i+2`. Similary parent of an element at index i is `(i-1)/2`"
   ]
  },
  {
   "cell_type": "markdown",
   "metadata": {},
   "source": [
    "![alt text](heap_sort1.png \"Heap Sort Indexing\")"
   ]
  },
  {
   "cell_type": "markdown",
   "metadata": {},
   "source": [
    "So, in short the numbers are distributed in `width first` manner."
   ]
  },
  {
   "cell_type": "code",
   "execution_count": 2,
   "metadata": {
    "tags": []
   },
   "outputs": [
    {
     "output_type": "stream",
     "name": "stdout",
     "text": "0\n2\n4\n6\n8\n"
    }
   ],
   "source": [
    "for i in range (0, 9, 2):\n",
    "    print(i)"
   ]
  },
  {
   "cell_type": "markdown",
   "metadata": {},
   "source": [
    "## Method 1. heapify module\n",
    "`heappush(array, item)` adds an item to the heap and re sorts them to keep it as heap.  \n",
    "`heappop(list)` pops out the smallest item, returns it, while still keeping the list as a heap.   `heapify(list)` Re sorts a given list into a heap.  "
   ]
  },
  {
   "cell_type": "code",
   "execution_count": 3,
   "metadata": {},
   "outputs": [],
   "source": [
    "from heapq import heappop, heappush\n",
    "\n",
    "def heap_me(array):\n",
    "    heap = [] # an empty heap list\n",
    "    for item in array:\n",
    "        heappush(heap, item)\n",
    "    \n",
    "    ordered = []\n",
    "\n",
    "    # while the heap isn't empty\n",
    "    while heap:\n",
    "        ordered.append(heappop(heap))\n",
    "    return ordered"
   ]
  },
  {
   "cell_type": "code",
   "execution_count": 4,
   "metadata": {},
   "outputs": [],
   "source": [
    "testcases = [[1,6,4,7,-44,66],[5,77,22,99,4,-55]]"
   ]
  },
  {
   "cell_type": "code",
   "execution_count": 5,
   "metadata": {},
   "outputs": [
    {
     "output_type": "execute_result",
     "data": {
      "text/plain": "[-44, 1, 4, 6, 7, 66]"
     },
     "metadata": {},
     "execution_count": 5
    }
   ],
   "source": [
    "heap_me(testcases[0])"
   ]
  },
  {
   "cell_type": "code",
   "execution_count": 6,
   "metadata": {},
   "outputs": [
    {
     "output_type": "execute_result",
     "data": {
      "text/plain": "[-55, 4, 5, 22, 77, 99]"
     },
     "metadata": {},
     "execution_count": 6
    }
   ],
   "source": [
    "heap_me(testcases[1])"
   ]
  },
  {
   "cell_type": "markdown",
   "metadata": {},
   "source": [
    "## Method 2"
   ]
  },
  {
   "cell_type": "code",
   "execution_count": 7,
   "metadata": {},
   "outputs": [],
   "source": [
    "def heapify (arr, s, i):\n",
    "    '''array : list; s : size/length of the array; i : index'''\n",
    "\n",
    "    biggest = i # let us assume so\n",
    "    li = 2 * i + 1 # left index\n",
    "    ri = 2 * i + 2 # right index\n",
    "\n",
    "    '''If left index is less than the size (length) of the array and\n",
    "    the number at the left index of the array is greater than the\n",
    "    number at the biggest_num index then biggest num is left index'''\n",
    "    if li < s and arr[biggest] < arr[li]:\n",
    "        biggest = li\n",
    "\n",
    "    if ri < s and arr[biggest] < arr[ri]:\n",
    "        biggest = ri\n",
    "    \n",
    "    # If root is not the largest, swap with largest and continue the heapifying\n",
    "    if biggest != i:\n",
    "        # swap\n",
    "        arr[biggest], arr[i] = arr[i], arr[biggest]\n",
    "        heapify(arr, s, biggest) # recursion\n",
    "    \n",
    "def heap_sort(arr):\n",
    "    s = len(arr)\n",
    "\n",
    "    # max heap\n",
    "    for i in range(s//2, -1, -1):\n",
    "        heapify(arr, s, i)\n",
    "\n",
    "    for i in range(s-1, 0, -1):\n",
    "        # swap\n",
    "        arr[i], arr[0] = arr[0], arr[i]\n",
    "\n",
    "        # heapify root\n",
    "        heapify(arr, i, 0) \n",
    "\n",
    "\n",
    "    \n"
   ]
  },
  {
   "cell_type": "code",
   "execution_count": 8,
   "metadata": {
    "tags": []
   },
   "outputs": [
    {
     "output_type": "stream",
     "name": "stdout",
     "text": "-8\n2\n3\n5\n6\n7\n9\n"
    }
   ],
   "source": [
    "arr = [9,-8,5,6,7,2,3]\n",
    "heap_sort(arr)\n",
    "s = len(arr)\n",
    "for i in range(s):\n",
    "    print(arr[i])\n"
   ]
  },
  {
   "cell_type": "markdown",
   "metadata": {},
   "source": [
    "- Heap sort complexity for best/average/worst case is `0(nlog n)`\n",
    "- Useful in scenarios like priority queues where you want to get the smallest number without having to worry about sorting the other numbers."
   ]
  }
 ]
}