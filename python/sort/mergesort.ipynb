{
 "metadata": {
  "language_info": {
   "codemirror_mode": {
    "name": "ipython",
    "version": 3
   },
   "file_extension": ".py",
   "mimetype": "text/x-python",
   "name": "python",
   "nbconvert_exporter": "python",
   "pygments_lexer": "ipython3",
   "version": "3.8.3-final"
  },
  "orig_nbformat": 2,
  "kernelspec": {
   "name": "python38332bitca46afd5c5ed438d99d9fb37b2f77422",
   "display_name": "Python 3.8.3 32-bit"
  }
 },
 "nbformat": 4,
 "nbformat_minor": 2,
 "cells": [
  {
   "cell_type": "markdown",
   "metadata": {},
   "source": [
    "# Merge Sort"
   ]
  },
  {
   "cell_type": "markdown",
   "metadata": {},
   "source": [
    "Image courtesy runestone.academy"
   ]
  },
  {
   "cell_type": "markdown",
   "metadata": {
    "tags": []
   },
   "source": [
    "![alt text](mergesortA.png \"Mergesort\")"
   ]
  },
  {
   "cell_type": "markdown",
   "metadata": {},
   "source": [
    "![alt text](mergesortB.png \"Mergesort\")"
   ]
  },
  {
   "cell_type": "code",
   "execution_count": 1,
   "metadata": {},
   "outputs": [],
   "source": [
    "def merge_sort(arr):\n",
    "    def merge(left, right):\n",
    "        result = []\n",
    "        while left and right:\n",
    "            # ternary function below if\n",
    "            # left[0] <= right[0],appends left[0] to result\n",
    "            # else appends right[0] to result and the added element\n",
    "            # is removed to avoid repetition of the same.\n",
    "            result.append((left if left[0] <= right[0] else right).pop(0))\n",
    "        return result + left + right\n",
    "\n",
    "    if len(arr) < 2:\n",
    "        return arr\n",
    "    mid = len(arr)//2\n",
    "    # using recursion\n",
    "    return merge(merge_sort(arr[:mid]), merge_sort(arr[mid:]))\n",
    "\n"
   ]
  },
  {
   "cell_type": "code",
   "execution_count": 2,
   "metadata": {},
   "outputs": [],
   "source": [
    "tests = [[3,-2,-1,5,4,7,88], [-9,3,2,5,7,55,-5]]"
   ]
  },
  {
   "cell_type": "code",
   "execution_count": 3,
   "metadata": {},
   "outputs": [
    {
     "output_type": "execute_result",
     "data": {
      "text/plain": "[-2, -1, 3, 4, 5, 7, 88]"
     },
     "metadata": {},
     "execution_count": 3
    }
   ],
   "source": [
    "merge_sort(tests[0])"
   ]
  },
  {
   "cell_type": "code",
   "execution_count": 4,
   "metadata": {},
   "outputs": [
    {
     "output_type": "execute_result",
     "data": {
      "text/plain": "[-9, -5, 2, 3, 5, 7, 55]"
     },
     "metadata": {},
     "execution_count": 4
    }
   ],
   "source": [
    "merge_sort(tests[1])"
   ]
  }
 ]
}