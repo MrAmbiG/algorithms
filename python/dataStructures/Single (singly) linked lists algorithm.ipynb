{
 "cells": [
  {
   "cell_type": "markdown",
   "metadata": {},
   "source": [
    "# Single (singly) linked lists algorithm - python [3.7]"
   ]
  },
  {
   "cell_type": "markdown",
   "metadata": {},
   "source": [
    "Array and Linked lists are used to store linear data. Both have their pros and cons."
   ]
  },
  {
   "cell_type": "markdown",
   "metadata": {},
   "source": [
    "### Arrays Vs Linked List"
   ]
  },
  {
   "cell_type": "markdown",
   "metadata": {},
   "source": [
    "count | Array | Linked list |\n",
    "--- | --- | --- |\n",
    "1 | Data structure that contains a collection of similar type of data elements | non primitive data structure containing a collection of unordered linked elements as nodes |\n",
    "2 | elements belong to indexes | not indexed |\n",
    "3 | Getting an element (ex: 99th element) by it's position is inexpensive since you can directly jump to that position to fetch it | getting an element by it's position is expensive since you have to go through all the elements before the element that you are looking for. |\n",
    "4 | accessing an elements is fast | slow (Takes linear time) |\n",
    "5 | insertion and deletion are slow | fast |\n",
    "6 | fixed size | flexible size |\n",
    "7 | memory is assigned during compilation | memory is assigned during execution/runtime |\n",
    "8 | consecutive storage of elements | random storage of elements |\n",
    "9 | less memory | more memory (since it contains references to next and previous elements) |\n",
    "10 | inefficient memory usage | efficient memory usage |\n"
   ]
  },
  {
   "cell_type": "markdown",
   "metadata": {},
   "source": [
    "### Pros"
   ]
  },
  {
   "cell_type": "markdown",
   "metadata": {},
   "source": [
    "1. Dynamic size\n",
    "2. Faster insertion, deletion"
   ]
  },
  {
   "cell_type": "markdown",
   "metadata": {},
   "source": [
    "### Cons"
   ]
  },
  {
   "cell_type": "markdown",
   "metadata": {},
   "source": [
    "1. No random access\n",
    "2. Extra memory space for a pointer per element of the list\n",
    "3. Poor cache locality than arrays"
   ]
  },
  {
   "cell_type": "markdown",
   "metadata": {},
   "source": [
    "A node is where data is stored in the linked list along with a pointer referencing to the next node in the list. A simple implementation looks like this."
   ]
  },
  {
   "cell_type": "code",
   "execution_count": 1,
   "metadata": {},
   "outputs": [],
   "source": [
    "class Node(object):\n",
    "    def __init__(self, data=None, next=None):\n",
    "        self.data = data\n",
    "        self.next = next\n",
    "     \n",
    "    def set_next(self, new_next):\n",
    "        self.next = new_next\n",
    "        \n",
    "    def get_data(self):\n",
    "        return self.data\n",
    "    \n",
    "    def get_next(self):\n",
    "        return self.next"
   ]
  },
  {
   "cell_type": "code",
   "execution_count": 6,
   "metadata": {},
   "outputs": [],
   "source": [
    "class LinkedList(object):\n",
    "    '''\n",
    "    head/top node gets initialized first with no nodes and thus set to None.\n",
    "    '''\n",
    "    def __init__(self, head=None):\n",
    "        self.head = head\n",
    "        self.size = 0\n",
    "        \n",
    "    def insert(self, data):\n",
    "        new_node = Node(data)\n",
    "        new_node.set_next(self.head)\n",
    "        self.head = new_node\n",
    "        self.size += 1\n",
    "    \n",
    "    def get_list(self):\n",
    "        print('getting full list')\n",
    "        current = self.head\n",
    "        while current:\n",
    "           print(current.data)\n",
    "           current = current.get_next()\n",
    "        \n",
    "    def get_size(self):\n",
    "        return f\"Size of the linked list is {self.size}\"\n",
    "    \n",
    "    def search(self, data):\n",
    "        current = self.head\n",
    "        found = False\n",
    "        while current and found is False:\n",
    "            if current.get_data() == data:\n",
    "                found = True\n",
    "            else:\n",
    "                current = current.get_next()\n",
    "        return f\"found {data}: {found}\"\n",
    "    \n",
    "    def delete(self, data):\n",
    "        '''\n",
    "        if b is the node that we are looking for in linked list\n",
    "        container a,b,c,d then during our linear search or traversing\n",
    "        through the list when we reach b we will simply point a to c\n",
    "        (previously it was a-->b-->c-->d) so not it becomes a,c,d\n",
    "        (a-->c--d)\n",
    "        '''\n",
    "        current = self.head\n",
    "        previous = None\n",
    "        found = False\n",
    "        while current and found is False:\n",
    "            if current.get_data() == data:\n",
    "                found = True\n",
    "                '''\n",
    "                if current node is the one which we were looking for\n",
    "                then we will point the previous node to the next node\n",
    "                and skip the current node. In essense the node that we were \n",
    "                looking for will be skipped/removed from the chain/link.\n",
    "                '''\n",
    "                previous.set_next(current.get_next())\n",
    "                self.size -= 1\n",
    "            else:\n",
    "                previous = current\n",
    "                current = current.get_next()\n",
    "        if found:\n",
    "            return f'Deleted {data}'\n",
    "\n",
    "    def reverse(self):\n",
    "        print('reversing list')\n",
    "        prev = None\n",
    "        current = self.head\n",
    "        while current:            \n",
    "            next = current.next # existing next node\n",
    "            current.next = prev # existing previous node --> new next node\n",
    "            prev = current # current node --> new previous node\n",
    "            current = next # previous next node --> new current node\n",
    "        self.head = prev\n",
    "\n"
   ]
  },
  {
   "cell_type": "markdown",
   "metadata": {},
   "source": [
    "![alt text](reverse_linked_list.png \"reversing\")"
   ]
  },
  {
   "cell_type": "markdown",
   "metadata": {},
   "source": [
    "## Applications  \n",
    "- Create a playlist of songs. It has a link to the next and previous songs so that one can play the entire playlist or skip to next or previous one.  \n",
    "- Create an album or images. You can slide through the album, first, next or previous.\n",
    "- Browser stores the address to the previous, present and next addresses so that you can go back or forward."
   ]
  },
  {
   "cell_type": "code",
   "execution_count": 7,
   "metadata": {
    "tags": []
   },
   "outputs": [
    {
     "output_type": "stream",
     "name": "stdout",
     "text": "inserting 1\nNone\ninserting 11\nNone\ninserting 2\nNone\n------------\nget full list\ngetting full list\n2\n11\n1\nNone\n------------\nSize of the linked list is 3\nsearching 111\nfound 111: False\n------------\ndeleting 11\nDeleted 11\n------------\nget full list\ngetting full list\n2\n1\nNone\nreversing list\nNone\ngetting full list\n1\n2\nNone\n"
    }
   ],
   "source": [
    "sll=LinkedList()\n",
    "print('inserting 1')\n",
    "print(sll.insert(1))\n",
    "print('inserting 11')\n",
    "print(sll.insert(11))\n",
    "print('inserting 2')\n",
    "print(sll.insert(2))\n",
    "print('------------')\n",
    "print('get full list')\n",
    "print(sll.get_list())\n",
    "print('------------')\n",
    "print(sll.get_size())\n",
    "print('searching 111')\n",
    "print(sll.search(111))\n",
    "print('------------')\n",
    "print('deleting 11')\n",
    "print(sll.delete(11))\n",
    "print('------------')\n",
    "print('get full list')\n",
    "print(sll.get_list())\n",
    "print(sll.reverse())\n",
    "print(sll.get_list())\n"
   ]
  },
  {
   "cell_type": "code",
   "execution_count": null,
   "metadata": {},
   "outputs": [],
   "source": []
  }
 ],
 "metadata": {
  "kernelspec": {
   "display_name": "Python 3",
   "language": "python",
   "name": "python3"
  },
  "language_info": {
   "codemirror_mode": {
    "name": "ipython",
    "version": 3
   },
   "file_extension": ".py",
   "mimetype": "text/x-python",
   "name": "python",
   "nbconvert_exporter": "python",
   "pygments_lexer": "ipython3",
   "version": "3.8.3-final"
  }
 },
 "nbformat": 4,
 "nbformat_minor": 2
}