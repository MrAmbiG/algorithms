{
 "metadata": {
  "language_info": {
   "codemirror_mode": {
    "name": "ipython",
    "version": 3
   },
   "file_extension": ".py",
   "mimetype": "text/x-python",
   "name": "python",
   "nbconvert_exporter": "python",
   "pygments_lexer": "ipython3",
   "version": "3.8.3-final"
  },
  "orig_nbformat": 2,
  "kernelspec": {
   "name": "python38332bitca46afd5c5ed438d99d9fb37b2f77422",
   "display_name": "Python 3.8.3 32-bit"
  }
 },
 "nbformat": 4,
 "nbformat_minor": 2,
 "cells": [
  {
   "source": [
    "# Trees"
   ],
   "cell_type": "markdown",
   "metadata": {}
  },
  {
   "source": [
    "![alt text](trees.png \"trees\")"
   ],
   "cell_type": "markdown",
   "metadata": {}
  },
  {
   "source": [
    "- `Node` contains a key or a value and link to other nodes.\n",
    "- `Edge` link between 2 nodes.\n",
    "- `Root` Top most node.\n",
    "- `Node's height` - number of edges (links) from the node to the farthest leaf.\n",
    "- `Node's depth` - number of edges (links) from the node to the root.\n",
    "- `Tree's height` - number of edges (links) between the root and the farthest leaf.\n",
    "- `Node's degree` - Total number of branches of the node.\n",
    "- `Forest` - Colleciton of disjoint trees.\n",
    " "
   ],
   "cell_type": "markdown",
   "metadata": {}
  },
  {
   "source": [
    "`Traverse` - Visiting each node of the tree  \n",
    "### `Preorder traversal`  \n",
    "1. visit root node  \n",
    "2. visit all nodes in the left subtree  \n",
    "3. visit all nodes in the right subtree\n",
    "### `Inorder traversal`  \n",
    "1. Visit all nodes from the left subtree  \n",
    "2. visit root node  \n",
    "3. visit all nodes from the right subtree  \n",
    "### `Postorder traversal`  \n",
    "1. visit all nodes in the left subtree  \n",
    "2. visit all nodes in the right subtree  \n",
    "3. visit root node  \n",
    "\n",
    "*Note that left is always visited before right, In which step you visit the root node defines the type of traversal.*"
   ],
   "cell_type": "markdown",
   "metadata": {}
  },
  {
   "cell_type": "code",
   "execution_count": 1,
   "metadata": {},
   "outputs": [],
   "source": [
    "# Tree traversal\n",
    "class Node:\n",
    "    def __init__(self, item):\n",
    "        self.left = self.right = None\n",
    "        self.val = item\n",
    "\n",
    "# Preorder Tree Traversal\n",
    "def preorder(root):\n",
    "    '''Traverse order: root > left > right'''\n",
    "    if root:\n",
    "        print(f\"{root.val} ->\", end='')\n",
    "        preorder(root.left)\n",
    "        preorder(root.right)\n",
    "\n",
    "# Inorder Tree Traversal\n",
    "def inorder(root):\n",
    "    '''Traverse order: left > root > right'''\n",
    "    if root:\n",
    "        inorder(root.left)\n",
    "        print(f\"{root.val} ->\", end='')\n",
    "        inorder(root.right)\n",
    "        \n",
    "# Postorder Tree Traversal\n",
    "def postorder(root):\n",
    "    '''Traverse order: left > root > right'''\n",
    "    if root:\n",
    "        inorder(root.left)\n",
    "        inorder(root.right)\n",
    "        print(f\"{root.val} ->\", end='')"
   ]
  },
  {
   "cell_type": "code",
   "execution_count": 2,
   "metadata": {},
   "outputs": [],
   "source": [
    "root = Node(9)\n",
    "root.left = Node(4)\n",
    "root.right = Node(1)\n",
    "root.left.left = Node(3)\n",
    "root.left.right = Node(2)"
   ]
  },
  {
   "cell_type": "code",
   "execution_count": 3,
   "metadata": {
    "tags": []
   },
   "outputs": [
    {
     "output_type": "stream",
     "name": "stdout",
     "text": "Preorder traversal \n9 ->4 ->3 ->2 ->1 ->"
    }
   ],
   "source": [
    "print(\"Preorder traversal \")\n",
    "preorder(root)"
   ]
  },
  {
   "cell_type": "code",
   "execution_count": 4,
   "metadata": {
    "tags": []
   },
   "outputs": [
    {
     "output_type": "stream",
     "name": "stdout",
     "text": "Postorder traversal \n3 ->4 ->2 ->1 ->9 ->"
    }
   ],
   "source": [
    "print(\"Postorder traversal \")\n",
    "postorder(root)"
   ]
  },
  {
   "cell_type": "code",
   "execution_count": 5,
   "metadata": {
    "tags": []
   },
   "outputs": [
    {
     "output_type": "stream",
     "name": "stdout",
     "text": "Inorder traversal \n3 ->4 ->2 ->9 ->1 ->"
    }
   ],
   "source": [
    "print(\"Inorder traversal \")\n",
    "inorder(root)"
   ]
  },
  {
   "cell_type": "code",
   "execution_count": null,
   "metadata": {},
   "outputs": [],
   "source": []
  }
 ]
}