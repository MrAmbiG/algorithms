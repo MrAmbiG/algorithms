{
 "metadata": {
  "language_info": {
   "codemirror_mode": {
    "name": "ipython",
    "version": 3
   },
   "file_extension": ".py",
   "mimetype": "text/x-python",
   "name": "python",
   "nbconvert_exporter": "python",
   "pygments_lexer": "ipython3",
   "version": "3.8.3-final"
  },
  "orig_nbformat": 2,
  "kernelspec": {
   "name": "python38332bitca46afd5c5ed438d99d9fb37b2f77422",
   "display_name": "Python 3.8.3 32-bit"
  }
 },
 "nbformat": 4,
 "nbformat_minor": 2,
 "cells": [
  {
   "source": [
    "# Binary Tree"
   ],
   "cell_type": "markdown",
   "metadata": {}
  },
  {
   "source": [
    "`Binary tree` is a data structure where each parent node has 1 or 2 children where as a `Full binary tree` is a data structure where each parent node has exactly 2 children."
   ],
   "cell_type": "markdown",
   "metadata": {}
  },
  {
   "source": [
    "![alt text](binaryTree.png \"binaryTree\")"
   ],
   "cell_type": "markdown",
   "metadata": {
    "tags": []
   }
  },
  {
   "cell_type": "code",
   "execution_count": 1,
   "metadata": {},
   "outputs": [],
   "source": [
    "class Node:\n",
    "    def __init__(self, key):\n",
    "        self.left = self.right = None\n",
    "        self.val = key \n",
    "\n",
    "    def preOrderTraverse(self):\n",
    "        print(self.val, end=' ')\n",
    "        if self.left:\n",
    "            self.left.preOrderTraverse()\n",
    "        if self.right:\n",
    "            self.right.preOrderTraverse()\n",
    "\n",
    "    def inOrderTraverse(self):\n",
    "        if self.left:\n",
    "            self.left.preOrderTraverse()\n",
    "        print(self.val, end=' ')\n",
    "        if self.right:\n",
    "            self.right.preOrderTraverse()\n",
    "\n",
    "    def postOrderTraverse(self):\n",
    "        if self.left:\n",
    "            self.left.preOrderTraverse()\n",
    "        if self.right:\n",
    "            self.right.preOrderTraverse()\n",
    "        print(self.val, end=' ')\n"
   ]
  },
  {
   "cell_type": "code",
   "execution_count": 2,
   "metadata": {},
   "outputs": [],
   "source": [
    "root = Node(5)\n",
    "root.left = Node(7)\n",
    "root.right = Node(3)\n",
    "root.left.left = Node(1)\n",
    "root.left.right = Node(2)"
   ]
  },
  {
   "cell_type": "code",
   "execution_count": 3,
   "metadata": {
    "tags": []
   },
   "outputs": [
    {
     "output_type": "stream",
     "name": "stdout",
     "text": "5 7 1 2 3"
    }
   ],
   "source": [
    "root.preOrderTraverse()"
   ]
  },
  {
   "cell_type": "code",
   "execution_count": 4,
   "metadata": {
    "tags": []
   },
   "outputs": [
    {
     "output_type": "stream",
     "name": "stdout",
     "text": "7 1 2 5 3"
    }
   ],
   "source": [
    "root.inOrderTraverse()"
   ]
  },
  {
   "cell_type": "code",
   "execution_count": 5,
   "metadata": {
    "tags": []
   },
   "outputs": [
    {
     "output_type": "stream",
     "name": "stdout",
     "text": "7 1 2 3 5"
    }
   ],
   "source": [
    "root.postOrderTraverse()"
   ]
  }
 ]
}