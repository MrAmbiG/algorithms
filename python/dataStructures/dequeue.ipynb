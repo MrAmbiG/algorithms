{
 "metadata": {
  "language_info": {
   "codemirror_mode": {
    "name": "ipython",
    "version": 3
   },
   "file_extension": ".py",
   "mimetype": "text/x-python",
   "name": "python",
   "nbconvert_exporter": "python",
   "pygments_lexer": "ipython3",
   "version": "3.8.3-final"
  },
  "orig_nbformat": 2,
  "kernelspec": {
   "name": "python38332bitca46afd5c5ed438d99d9fb37b2f77422",
   "display_name": "Python 3.8.3 32-bit"
  }
 },
 "nbformat": 4,
 "nbformat_minor": 2,
 "cells": [
  {
   "source": [
    "# deQueue"
   ],
   "cell_type": "markdown",
   "metadata": {}
  },
  {
   "source": [
    "`Dequeue` is a double ended queue where an item can be added or remvoved from both head and tail. In a regular queue works on the priciple of`FIFO` (First In First Out); An item gets added at the end and removed from the front. A stack works on the priciple of `LIFO` (Last In Last Out); An item gets added in the front and removed from the front."
   ],
   "cell_type": "markdown",
   "metadata": {}
  },
  {
   "source": [
    "### Method 1\n",
    "Use the built in module of python"
   ],
   "cell_type": "markdown",
   "metadata": {}
  },
  {
   "cell_type": "code",
   "execution_count": 1,
   "metadata": {},
   "outputs": [
    {
     "output_type": "execute_result",
     "data": {
      "text/plain": "deque([1, 2, 3, 4])"
     },
     "metadata": {},
     "execution_count": 1
    }
   ],
   "source": [
    "import collections\n",
    "# our test array/list\n",
    "arr = list(range(1,5))\n",
    "\n",
    "# Initialize deque:\n",
    "dq = collections.deque(arr)\n",
    "dq"
   ]
  },
  {
   "cell_type": "code",
   "execution_count": 2,
   "metadata": {},
   "outputs": [
    {
     "output_type": "execute_result",
     "data": {
      "text/plain": "deque([12, 1, 2, 3, 4, 11])"
     },
     "metadata": {},
     "execution_count": 2
    }
   ],
   "source": [
    "dq.append(11) # add 11 ro the right\n",
    "dq.appendleft(12) # add 12 to the left\n",
    "dq"
   ]
  },
  {
   "cell_type": "code",
   "execution_count": 3,
   "metadata": {},
   "outputs": [
    {
     "output_type": "execute_result",
     "data": {
      "text/plain": "deque([24, 23, 12, 1, 2, 3, 4, 11, 13, 14])"
     },
     "metadata": {},
     "execution_count": 3
    }
   ],
   "source": [
    "# add another array to the right\n",
    "dq.extend([13,14])\n",
    "\n",
    "# add another array to the left\n",
    "dq.extendleft([23,24])\n",
    "dq"
   ]
  },
  {
   "cell_type": "code",
   "execution_count": 4,
   "metadata": {},
   "outputs": [
    {
     "output_type": "execute_result",
     "data": {
      "text/plain": "deque([24, 23, 12, 1, 2, 3, 7, 4, 11, 13, 14])"
     },
     "metadata": {},
     "execution_count": 4
    }
   ],
   "source": [
    "# at index 6 insert 7\n",
    "dq.insert(6, 7)\n",
    "dq"
   ]
  },
  {
   "cell_type": "code",
   "execution_count": 5,
   "metadata": {},
   "outputs": [
    {
     "output_type": "execute_result",
     "data": {
      "text/plain": "14"
     },
     "metadata": {},
     "execution_count": 5
    }
   ],
   "source": [
    "# pop item from right\n",
    "dq.pop()"
   ]
  },
  {
   "cell_type": "code",
   "execution_count": 6,
   "metadata": {},
   "outputs": [
    {
     "output_type": "execute_result",
     "data": {
      "text/plain": "24"
     },
     "metadata": {},
     "execution_count": 6
    }
   ],
   "source": [
    "# pop item from left\n",
    "dq.popleft()"
   ]
  },
  {
   "cell_type": "code",
   "execution_count": 7,
   "metadata": {},
   "outputs": [
    {
     "output_type": "execute_result",
     "data": {
      "text/plain": "[23, 12, 2, 3, 7, 4, 11, 13]"
     },
     "metadata": {},
     "execution_count": 7
    }
   ],
   "source": [
    "# remove a particular item\n",
    "dq.remove(1)\n",
    "list(dq)"
   ]
  },
  {
   "cell_type": "code",
   "execution_count": 8,
   "metadata": {},
   "outputs": [],
   "source": [
    "# rotate the deque 2 times from the right (move 2 items from right to the left)\n",
    "dq.rotate(2)"
   ]
  },
  {
   "cell_type": "code",
   "execution_count": 9,
   "metadata": {},
   "outputs": [
    {
     "output_type": "execute_result",
     "data": {
      "text/plain": "deque([11, 13, 23, 12, 2, 3, 7, 4])"
     },
     "metadata": {},
     "execution_count": 9
    }
   ],
   "source": [
    "dq"
   ]
  },
  {
   "source": [
    "### Method 2"
   ],
   "cell_type": "markdown",
   "metadata": {}
  },
  {
   "cell_type": "code",
   "execution_count": 10,
   "metadata": {},
   "outputs": [],
   "source": [
    "class Dequeue:\n",
    "    def __init__(self):\n",
    "        self.items = []\n",
    "\n",
    "    def size(self):\n",
    "        return len(self.items)\n",
    "\n",
    "    def get(self):\n",
    "        return self.items\n",
    "\n",
    "    def empty(self):\n",
    "        if self.size == 0:\n",
    "            return True\n",
    "        else:\n",
    "            return False\n",
    "\n",
    "    def append(self, *items): # add to the right\n",
    "        for item in items:\n",
    "            self.items.append(item)\n",
    "\n",
    "    def addLeft(self, *items): # add to the left\n",
    "        for item in items:\n",
    "            self.items.insert(0, item)\n",
    "\n",
    "    def pop(self): # remove item from right\n",
    "        return self.items.pop()\n",
    "\n",
    "    def popLeft(self): # remove item from left\n",
    "        return self.items.pop(0)\n",
    "\n",
    "\n",
    "\n"
   ]
  },
  {
   "cell_type": "code",
   "execution_count": 11,
   "metadata": {
    "tags": []
   },
   "outputs": [
    {
     "output_type": "stream",
     "name": "stdout",
     "text": "Is the dequeue empty?: False\n"
    },
    {
     "output_type": "execute_result",
     "data": {
      "text/plain": "[1]"
     },
     "metadata": {},
     "execution_count": 11
    }
   ],
   "source": [
    "# initialize a dequeue\n",
    "d = Dequeue()\n",
    "print(f\"Is the dequeue empty?: {d.empty()}\")\n",
    "\n",
    "# append item\n",
    "d.append(1)\n",
    "d.get()"
   ]
  },
  {
   "cell_type": "code",
   "execution_count": 12,
   "metadata": {},
   "outputs": [
    {
     "output_type": "execute_result",
     "data": {
      "text/plain": "[5, 4, 3, 2, 1]"
     },
     "metadata": {},
     "execution_count": 12
    }
   ],
   "source": [
    "d.addLeft(2,3,4,5)\n",
    "d.get()"
   ]
  },
  {
   "cell_type": "code",
   "execution_count": 13,
   "metadata": {},
   "outputs": [
    {
     "output_type": "execute_result",
     "data": {
      "text/plain": "1"
     },
     "metadata": {},
     "execution_count": 13
    }
   ],
   "source": [
    "# pop out an item from the right\n",
    "d.pop()"
   ]
  },
  {
   "cell_type": "code",
   "execution_count": 14,
   "metadata": {},
   "outputs": [
    {
     "output_type": "execute_result",
     "data": {
      "text/plain": "[5, 4, 3, 2]"
     },
     "metadata": {},
     "execution_count": 14
    }
   ],
   "source": [
    "# get the list of items\n",
    "d.get()"
   ]
  },
  {
   "cell_type": "code",
   "execution_count": 15,
   "metadata": {},
   "outputs": [
    {
     "output_type": "execute_result",
     "data": {
      "text/plain": "5"
     },
     "metadata": {},
     "execution_count": 15
    }
   ],
   "source": [
    "# pop out an item from the left\n",
    "d.popLeft()"
   ]
  },
  {
   "cell_type": "code",
   "execution_count": 16,
   "metadata": {},
   "outputs": [
    {
     "output_type": "execute_result",
     "data": {
      "text/plain": "[4, 3, 2]"
     },
     "metadata": {},
     "execution_count": 16
    }
   ],
   "source": [
    "d.get()"
   ]
  }
 ]
}