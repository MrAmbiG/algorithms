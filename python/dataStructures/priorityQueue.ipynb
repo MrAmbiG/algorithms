{
 "metadata": {
  "language_info": {
   "codemirror_mode": {
    "name": "ipython",
    "version": 3
   },
   "file_extension": ".py",
   "mimetype": "text/x-python",
   "name": "python",
   "nbconvert_exporter": "python",
   "pygments_lexer": "ipython3",
   "version": "3.8.3-final"
  },
  "orig_nbformat": 2,
  "kernelspec": {
   "name": "python38332bitca46afd5c5ed438d99d9fb37b2f77422",
   "display_name": "Python 3.8.3 32-bit"
  }
 },
 "nbformat": 4,
 "nbformat_minor": 2,
 "cells": [
  {
   "cell_type": "markdown",
   "metadata": {},
   "source": [
    "# Priority Queue"
   ]
  },
  {
   "cell_type": "markdown",
   "metadata": {},
   "source": [
    "A normal queue follows `FIFO` aka First In First Out where as in a priority queue an item is removed (dequeued) based on its priority. Highest priority goes out first.\n",
    "Items are ordered as per their priority or a key value."
   ]
  },
  {
   "cell_type": "markdown",
   "metadata": {},
   "source": [
    "## Queue, Stack and Priority Queue\n",
    "Let us consider the following"
   ]
  },
  {
   "cell_type": "markdown",
   "metadata": {},
   "source": [
    "| Items | Customer |\n",
    "| --- | --- |\n",
    "| 2 |Ram |\n",
    "| 4 |shyam |\n",
    "| 6 |kumar |\n",
    "| 9 |Anil |\n",
    "| 7 |Arun |"
   ]
  },
  {
   "cell_type": "markdown",
   "metadata": {},
   "source": [
    "In the 1st column you see the number of items each customer has bought and in the 2nd column you see the customer's name. Now they are standing in a queue at the counter to pay and check out.\n",
    "If the cashier\n",
    "- serves the customer based on who arrived first `FIFO - First In First Out` then it is a normal `Queue`. Here Ram Arrived first and Arun arrived last. Ram, Shyam, kumar, Anil and Arun will be served in the order they arrived.\n",
    "- serves the customer based on who arrived last `LIFO - Last In First Out` then it is a `stack`. So, Arun will be served first and Ram will be served last.\n",
    "- serves the customer based on the number of items that they have (prioritize based on who has the most items). Customer with the lowest number of items gets served first, that is Ram (2), Shyam (4), Kumar (6), Arun (7) and Anil (9).\n"
   ]
  },
  {
   "cell_type": "markdown",
   "metadata": {},
   "source": [
    "Priority Queue is usually implemented using (linked) lists, Binary heap, Binary search tree. "
   ]
  },
  {
   "cell_type": "markdown",
   "metadata": {},
   "source": [
    "### Method 1"
   ]
  },
  {
   "cell_type": "code",
   "execution_count": 1,
   "metadata": {},
   "outputs": [],
   "source": [
    "# Python's built in module\n",
    "from queue import PriorityQueue\n",
    "pq = PriorityQueue()"
   ]
  },
  {
   "cell_type": "code",
   "execution_count": 2,
   "metadata": {
    "tags": []
   },
   "outputs": [
    {
     "output_type": "stream",
     "name": "stdout",
     "text": "[(5, 'ram'), (4, 'sam'), (9, 'tim'), (7, 'bob'), (2, 'ben')]\n"
    }
   ],
   "source": [
    "# Observe the list of items and their ordering, they will be added in this order\n",
    "items = [\n",
    "    (5, 'ram'),\n",
    "    (4, 'sam'),\n",
    "    (9, 'tim'),\n",
    "    (7, 'bob'),\n",
    "    (2, 'ben'),\n",
    "]\n",
    "print(items)"
   ]
  },
  {
   "cell_type": "code",
   "execution_count": 3,
   "metadata": {
    "tags": []
   },
   "outputs": [
    {
     "output_type": "stream",
     "name": "stdout",
     "text": "5\n"
    }
   ],
   "source": [
    "for item in items:\n",
    "    pq.put(item)\n",
    "\n",
    "print(pq.qsize())"
   ]
  },
  {
   "cell_type": "code",
   "execution_count": 4,
   "metadata": {
    "tags": []
   },
   "outputs": [
    {
     "output_type": "stream",
     "name": "stdout",
     "text": "(2, 'ben')\n(4, 'sam')\n(5, 'ram')\n(7, 'bob')\n(9, 'tim')\n"
    }
   ],
   "source": [
    "while not pq.empty():\n",
    "    next_item = pq.get()\n",
    "    print(next_item)"
   ]
  },
  {
   "cell_type": "markdown",
   "metadata": {},
   "source": [
    "Compare the order of the items while adding to those when we were removing."
   ]
  },
  {
   "cell_type": "markdown",
   "metadata": {},
   "source": [
    "### Method 2"
   ]
  },
  {
   "cell_type": "code",
   "execution_count": 5,
   "metadata": {
    "tags": []
   },
   "outputs": [],
   "source": [
    "def heapify (arr, s, i):\n",
    "    '''array : list; s : size/length of the array; i : index'''\n",
    "\n",
    "    largest = i # let us assume so\n",
    "    li = 2 * i + 1 # left index\n",
    "    ri = 2 * i + 2 # right index\n",
    "\n",
    "    '''If left index is less than the size (length) of the array and\n",
    "    the number at the left index of the array is greater than the\n",
    "    number at the largest_num index then largest num is left index'''\n",
    "    if li < s and arr[largest] < arr[li]:\n",
    "        largest = li\n",
    "\n",
    "    if ri < s and arr[largest] < arr[ri]:\n",
    "        largest = ri\n",
    "    \n",
    "    # If root is not the largest, swap with largest and continue the heapifying\n",
    "    if largest != i:\n",
    "        # swap\n",
    "        arr[largest], arr[i] = arr[i], arr[largest]\n",
    "        heapify(arr, s, largest) # recursion\n",
    "\n",
    "\n",
    "# Add items to trees\n",
    "def addition(arr, num):\n",
    "    size = len(arr)\n",
    "    if size == 0:\n",
    "        arr.append(num)\n",
    "    else:\n",
    "        arr.append(num)\n",
    "        for i in range((size // 2) - 1, -1, -1):\n",
    "            heapify(arr, size, i)\n",
    "\n",
    "\n",
    "# delete items from trees\n",
    "def deletion(arr, num):\n",
    "    size = len(arr)\n",
    "    i = 0\n",
    "    for i in range(0, size):\n",
    "        if num == arr[i]:\n",
    "            break\n",
    "    # swap\n",
    "    arr[i], arr[size - 1] = arr[size - 1], arr[i]\n",
    "    arr.remove(size - 1) # delete\n",
    "    for i in range((len(arr) // 2) - 1, -1, -1):\n",
    "        heapify(arr, len(arr), i)"
   ]
  },
  {
   "cell_type": "code",
   "execution_count": 6,
   "metadata": {
    "tags": []
   },
   "outputs": [
    {
     "output_type": "stream",
     "name": "stdout",
     "text": "array: [9, 8, 1, 4, 7]\narray: [9, 8, 1, 7]\n"
    }
   ],
   "source": [
    "arr = []\n",
    "\n",
    "addition(arr, 8)\n",
    "addition(arr, 4)\n",
    "addition(arr, 1)\n",
    "addition(arr, 9)\n",
    "addition(arr, 7)\n",
    "\n",
    "print (\"array: \" + str(arr))\n",
    "\n",
    "deletion(arr, 7)\n",
    "print(\"array: \" + str(arr))"
   ]
  },
  {
   "cell_type": "code",
   "execution_count": null,
   "metadata": {},
   "outputs": [],
   "source": []
  }
 ]
}