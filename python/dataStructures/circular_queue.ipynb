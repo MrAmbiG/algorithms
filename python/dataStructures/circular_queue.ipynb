{
 "metadata": {
  "language_info": {
   "codemirror_mode": {
    "name": "ipython",
    "version": 3
   },
   "file_extension": ".py",
   "mimetype": "text/x-python",
   "name": "python",
   "nbconvert_exporter": "python",
   "pygments_lexer": "ipython3",
   "version": "3.8.3-final"
  },
  "orig_nbformat": 2,
  "kernelspec": {
   "name": "python38332bitca46afd5c5ed438d99d9fb37b2f77422",
   "display_name": "Python 3.8.3 32-bit"
  }
 },
 "nbformat": 4,
 "nbformat_minor": 2,
 "cells": [
  {
   "cell_type": "markdown",
   "metadata": {},
   "source": [
    "# Circular Queue"
   ]
  },
  {
   "cell_type": "markdown",
   "metadata": {
    "tags": []
   },
   "source": [
    "![alt text](circularQueue.png \"circularQueue\")"
   ]
  },
  {
   "cell_type": "markdown",
   "metadata": {},
   "source": [
    "## How the Circular Queue works\n",
    "- There is a head and tail to a circular queue\n",
    "- head tracks the first item and tail tracks the last\n",
    "- When the list is emtpy, head = tail = -1"
   ]
  },
  {
   "cell_type": "markdown",
   "metadata": {},
   "source": [
    "## Enqueuing \n",
    "- Check if the queue is full\n",
    "- set the value of first item to 0\n",
    "- Circularly increase `tail` index by 1\n",
    "- Add new item where `tail` points to..."
   ]
  },
  {
   "cell_type": "markdown",
   "metadata": {},
   "source": [
    "## Dequeuing\n",
    "- Check if queue is empty\n",
    "- Get the value pointed by head (in enqueuing we get the value pointed by tail)\n",
    "- Circularly increase `head` index by 1 (during enqueuing we increase tail)\n",
    "- Add new item where `head` points to..\n",
    "While Dequeuing the queue can be full when\n",
    "1. `head` = 0 && `tail` == `size` - 1\n",
    "2. `head` = `tail` + 1"
   ]
  },
  {
   "cell_type": "code",
   "execution_count": 1,
   "metadata": {},
   "outputs": [],
   "source": [
    "class circularQueue(object):\n",
    "    def __init__(self, maxSize):\n",
    "        '''\n",
    "        Initialize the Queue all elements as None\n",
    "        maxSize - maximum allowed size\n",
    "        size - current size of the queue\n",
    "        '''\n",
    "        self.maxSize = maxSize # max size\n",
    "        self.queue = [None] * self.maxSize\n",
    "        self.head = self.tail = self.size = 0\n",
    "\n",
    "    def isFull(self):\n",
    "        '''\n",
    "        Checks whether the circular queue is full or not.\n",
    "        '''\n",
    "        return self.size == self.maxSize\n",
    "\n",
    "    def isEmpty(self):\n",
    "        '''check if the queue is empty'''\n",
    "        return self.size == 0\n",
    "\n",
    "    def enQueue(self, data):\n",
    "        '''add item to queue'''\n",
    "        if self.isFull():\n",
    "            return 'Full list'\n",
    "        self.queue.append(data)        \n",
    "        self.tail = (self.tail + 1) % self.maxSize\n",
    "        self.size += 1\n",
    "        return data\n",
    "\n",
    "    def deQueue(self):\n",
    "        '''remove item to queue'''\n",
    "        if self.size==0:\n",
    "            return \"Empty Queue\"\n",
    "        data = self.queue[self.head]\n",
    "        self.head = (self.head + 1) % self.maxSize\n",
    "        self.size -= 1\n",
    "        return data\n",
    "\n",
    "    def getSize(self):\n",
    "        '''get size of the circular list'''\n",
    "        return self.size\n"
   ]
  },
  {
   "cell_type": "markdown",
   "metadata": {},
   "source": []
  },
  {
   "cell_type": "code",
   "execution_count": 2,
   "metadata": {
    "tags": []
   },
   "outputs": [
    {
     "output_type": "stream",
     "name": "stdout",
     "text": "1\n2\n3\n4\n5\n6\n6\nFull list\nNone\nNone\nNone\n3\nNone\nNone\nNone\n0\nEmpty Queue\n"
    }
   ],
   "source": [
    "q = circularQueue(6)\n",
    "print(q.enQueue(1))\n",
    "print(q.enQueue(2))\n",
    "print(q.enQueue(3))\n",
    "print(q.enQueue(4))\n",
    "print(q.enQueue(5))\n",
    "print(q.enQueue(6))\n",
    "print(q.getSize())\n",
    "# Queue is full now\n",
    "print(q.enQueue(7))\n",
    "print(q.deQueue())\n",
    "print(q.deQueue())\n",
    "print(q.deQueue())\n",
    "print(q.getSize())\n",
    "print(q.deQueue())\n",
    "print(q.deQueue())\n",
    "print(q.deQueue())\n",
    "print(q.getSize())\n",
    "# Queue is empty now\n",
    "print(q.deQueue())"
   ]
  },
  {
   "cell_type": "markdown",
   "metadata": {},
   "source": [
    "## Applications\n",
    "- CPU scheduling\n",
    "- Memory scheduling"
   ]
  },
  {
   "cell_type": "code",
   "execution_count": null,
   "metadata": {},
   "outputs": [],
   "source": []
  }
 ]
}