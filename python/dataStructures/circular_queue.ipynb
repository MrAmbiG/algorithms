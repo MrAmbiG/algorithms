{
 "metadata": {
  "language_info": {
   "codemirror_mode": {
    "name": "ipython",
    "version": 3
   },
   "file_extension": ".py",
   "mimetype": "text/x-python",
   "name": "python",
   "nbconvert_exporter": "python",
   "pygments_lexer": "ipython3",
   "version": "3.8.3-final"
  },
  "orig_nbformat": 2,
  "kernelspec": {
   "name": "python38332bitca46afd5c5ed438d99d9fb37b2f77422",
   "display_name": "Python 3.8.3 32-bit"
  }
 },
 "nbformat": 4,
 "nbformat_minor": 2,
 "cells": [
  {
   "cell_type": "code",
   "execution_count": null,
   "metadata": {},
   "outputs": [],
   "source": []
  },
  {
   "cell_type": "code",
   "execution_count": null,
   "metadata": {},
   "outputs": [],
   "source": [
    "class circularQueue(object):\n",
    "    def __init__(self, size):\n",
    "        '''\n",
    "        Initialize the Queue all elements as None\n",
    "        '''\n",
    "        self.size = size # max size\n",
    "        self.length = 0 # current size\n",
    "        self.queue = [None] * size\n",
    "        self.head = self.tail = -1\n",
    "\n",
    "    def isFull(self):\n",
    "        '''\n",
    "        Checks whether the circular queue is full or not.\n",
    "        '''\n",
    "        return self.length == self.size\n",
    "\n",
    "    def isEmpty(self):\n",
    "        '''check if the queue is empty'''\n",
    "        return self.length == 0\n",
    "\n",
    "    def head(self):\n",
    "        '''gets the head/beginning of the queue'''\n",
    "        if self.isFull:\n",
    "            return -1\n",
    "        return self.queue[self.head]\n",
    " \n",
    "    def tail(self):\n",
    "        '''gets the tail/end of the queue'''\n",
    "        if self.isEmpty:\n",
    "            return -1\n",
    "        return self.queue[self.tail]\n",
    "\n",
    "    def enQueue(self, data):\n",
    "        '''add item to queue'''\n",
    "        tail = (self.tail + 1) % size\n",
    "        self.queue[tail] = data\n",
    "        self.tail = tail\n",
    "        self.length += 1\n",
    "        if self.length == 0:\n",
    "            self.head = 0\n",
    "        return True\n",
    "\n",
    "    def deQueue(self. data):\n",
    "        '''remove item from queue'''\n",
    "        if self.isEmpty():\n",
    "            return False\n",
    "        \n",
    "        self.head = (self.head + 1) % size\n",
    "        self.length -= 1\n",
    "        if self.isEmpty():\n",
    "            self.head = self.tail = -1\n",
    "        return True\n",
    "\n",
    "\n",
    "\n",
    "\n",
    "\n",
    "\n"
   ]
  },
  {
   "cell_type": "code",
   "execution_count": null,
   "metadata": {},
   "outputs": [],
   "source": []
  }
 ]
}